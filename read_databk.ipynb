{
 "cells": [
  {
   "cell_type": "code",
   "execution_count": 1,
   "metadata": {},
   "outputs": [],
   "source": [
    "import pandas as pd\n",
    "import matplotlib.pyplot as plt\n",
    "\n",
    "weather = pd.read_csv('weather.csv')\n",
    "polution = pd.read_excel('smog.xlsx')\n",
    "time = pd.read_excel('time.xlsx')"
   ]
  },
  {
   "cell_type": "code",
   "execution_count": 3,
   "metadata": {},
   "outputs": [
    {
     "name": "stderr",
     "output_type": "stream",
     "text": [
      "<ipython-input-3-4071ca6e6b5b>:2: SettingWithCopyWarning: \n",
      "A value is trying to be set on a copy of a slice from a DataFrame.\n",
      "Try using .loc[row_indexer,col_indexer] = value instead\n",
      "\n",
      "See the caveats in the documentation: https://pandas.pydata.org/pandas-docs/stable/user_guide/indexing.html#returning-a-view-versus-a-copy\n",
      "  data['heating sezon'] = time['heating_sezon']\n",
      "<ipython-input-3-4071ca6e6b5b>:3: SettingWithCopyWarning: \n",
      "A value is trying to be set on a copy of a slice from a DataFrame.\n",
      "Try using .loc[row_indexer,col_indexer] = value instead\n",
      "\n",
      "See the caveats in the documentation: https://pandas.pydata.org/pandas-docs/stable/user_guide/indexing.html#returning-a-view-versus-a-copy\n",
      "  data['weekend'] = time['weekend']\n",
      "<ipython-input-3-4071ca6e6b5b>:4: SettingWithCopyWarning: \n",
      "A value is trying to be set on a copy of a slice from a DataFrame.\n",
      "Try using .loc[row_indexer,col_indexer] = value instead\n",
      "\n",
      "See the caveats in the documentation: https://pandas.pydata.org/pandas-docs/stable/user_guide/indexing.html#returning-a-view-versus-a-copy\n",
      "  data['smog Złoty Róg'] = polution['Kraków, ul. Złoty Róg']\n",
      "<ipython-input-3-4071ca6e6b5b>:5: SettingWithCopyWarning: \n",
      "A value is trying to be set on a copy of a slice from a DataFrame.\n",
      "Try using .loc[row_indexer,col_indexer] = value instead\n",
      "\n",
      "See the caveats in the documentation: https://pandas.pydata.org/pandas-docs/stable/user_guide/indexing.html#returning-a-view-versus-a-copy\n",
      "  data['smog Bulwarowa'] = polution['Kraków, ul. Bulwarowa']\n",
      "<ipython-input-3-4071ca6e6b5b>:6: SettingWithCopyWarning: \n",
      "A value is trying to be set on a copy of a slice from a DataFrame.\n",
      "Try using .loc[row_indexer,col_indexer] = value instead\n",
      "\n",
      "See the caveats in the documentation: https://pandas.pydata.org/pandas-docs/stable/user_guide/indexing.html#returning-a-view-versus-a-copy\n",
      "  data['smog Swoszowice'] = polution['Kraków, os. Swoszowice']\n"
     ]
    },
    {
     "data": {
      "text/html": [
       "<div>\n",
       "<style scoped>\n",
       "    .dataframe tbody tr th:only-of-type {\n",
       "        vertical-align: middle;\n",
       "    }\n",
       "\n",
       "    .dataframe tbody tr th {\n",
       "        vertical-align: top;\n",
       "    }\n",
       "\n",
       "    .dataframe thead th {\n",
       "        text-align: right;\n",
       "    }\n",
       "</style>\n",
       "<table border=\"1\" class=\"dataframe\">\n",
       "  <thead>\n",
       "    <tr style=\"text-align: right;\">\n",
       "      <th></th>\n",
       "      <th>datetime</th>\n",
       "      <th>temp</th>\n",
       "      <th>humidity</th>\n",
       "      <th>windspeed</th>\n",
       "      <th>winddir</th>\n",
       "      <th>precipprob</th>\n",
       "      <th>sealevelpressure</th>\n",
       "      <th>heating sezon</th>\n",
       "      <th>weekend</th>\n",
       "      <th>smog Złoty Róg</th>\n",
       "      <th>smog Bulwarowa</th>\n",
       "      <th>smog Swoszowice</th>\n",
       "    </tr>\n",
       "  </thead>\n",
       "  <tbody>\n",
       "    <tr>\n",
       "      <th>0</th>\n",
       "      <td>2022-01-01</td>\n",
       "      <td>9.8</td>\n",
       "      <td>93.3</td>\n",
       "      <td>25.1</td>\n",
       "      <td>246.6</td>\n",
       "      <td>100</td>\n",
       "      <td>1020.3</td>\n",
       "      <td>1</td>\n",
       "      <td>1</td>\n",
       "      <td>16.2</td>\n",
       "      <td>NaN</td>\n",
       "      <td>17.4</td>\n",
       "    </tr>\n",
       "    <tr>\n",
       "      <th>1</th>\n",
       "      <td>2022-01-02</td>\n",
       "      <td>8.5</td>\n",
       "      <td>89.1</td>\n",
       "      <td>26.8</td>\n",
       "      <td>228.9</td>\n",
       "      <td>100</td>\n",
       "      <td>1018.0</td>\n",
       "      <td>1</td>\n",
       "      <td>1</td>\n",
       "      <td>24.9</td>\n",
       "      <td>21.5</td>\n",
       "      <td>16.9</td>\n",
       "    </tr>\n",
       "    <tr>\n",
       "      <th>2</th>\n",
       "      <td>2022-01-03</td>\n",
       "      <td>8.8</td>\n",
       "      <td>72.0</td>\n",
       "      <td>37.5</td>\n",
       "      <td>239.8</td>\n",
       "      <td>100</td>\n",
       "      <td>1009.2</td>\n",
       "      <td>1</td>\n",
       "      <td>0</td>\n",
       "      <td>11.7</td>\n",
       "      <td>12.5</td>\n",
       "      <td>10.0</td>\n",
       "    </tr>\n",
       "    <tr>\n",
       "      <th>3</th>\n",
       "      <td>2022-01-04</td>\n",
       "      <td>7.9</td>\n",
       "      <td>82.8</td>\n",
       "      <td>24.4</td>\n",
       "      <td>214.1</td>\n",
       "      <td>100</td>\n",
       "      <td>1000.3</td>\n",
       "      <td>1</td>\n",
       "      <td>0</td>\n",
       "      <td>7.5</td>\n",
       "      <td>10.4</td>\n",
       "      <td>6.4</td>\n",
       "    </tr>\n",
       "    <tr>\n",
       "      <th>4</th>\n",
       "      <td>2022-01-05</td>\n",
       "      <td>5.0</td>\n",
       "      <td>90.0</td>\n",
       "      <td>28.7</td>\n",
       "      <td>244.6</td>\n",
       "      <td>100</td>\n",
       "      <td>1000.1</td>\n",
       "      <td>1</td>\n",
       "      <td>0</td>\n",
       "      <td>10.3</td>\n",
       "      <td>12.2</td>\n",
       "      <td>9.8</td>\n",
       "    </tr>\n",
       "    <tr>\n",
       "      <th>...</th>\n",
       "      <td>...</td>\n",
       "      <td>...</td>\n",
       "      <td>...</td>\n",
       "      <td>...</td>\n",
       "      <td>...</td>\n",
       "      <td>...</td>\n",
       "      <td>...</td>\n",
       "      <td>...</td>\n",
       "      <td>...</td>\n",
       "      <td>...</td>\n",
       "      <td>...</td>\n",
       "      <td>...</td>\n",
       "    </tr>\n",
       "    <tr>\n",
       "      <th>360</th>\n",
       "      <td>2022-12-27</td>\n",
       "      <td>4.9</td>\n",
       "      <td>77.5</td>\n",
       "      <td>37.9</td>\n",
       "      <td>250.1</td>\n",
       "      <td>100</td>\n",
       "      <td>1021.9</td>\n",
       "      <td>1</td>\n",
       "      <td>0</td>\n",
       "      <td>12.9</td>\n",
       "      <td>14.3</td>\n",
       "      <td>12.2</td>\n",
       "    </tr>\n",
       "    <tr>\n",
       "      <th>361</th>\n",
       "      <td>2022-12-28</td>\n",
       "      <td>1.8</td>\n",
       "      <td>77.0</td>\n",
       "      <td>18.0</td>\n",
       "      <td>221.4</td>\n",
       "      <td>100</td>\n",
       "      <td>1022.8</td>\n",
       "      <td>1</td>\n",
       "      <td>0</td>\n",
       "      <td>19.2</td>\n",
       "      <td>28.4</td>\n",
       "      <td>12.6</td>\n",
       "    </tr>\n",
       "    <tr>\n",
       "      <th>362</th>\n",
       "      <td>2022-12-29</td>\n",
       "      <td>3.8</td>\n",
       "      <td>72.7</td>\n",
       "      <td>16.3</td>\n",
       "      <td>227.3</td>\n",
       "      <td>0</td>\n",
       "      <td>1015.5</td>\n",
       "      <td>1</td>\n",
       "      <td>0</td>\n",
       "      <td>30.2</td>\n",
       "      <td>40.9</td>\n",
       "      <td>13.6</td>\n",
       "    </tr>\n",
       "    <tr>\n",
       "      <th>363</th>\n",
       "      <td>2022-12-30</td>\n",
       "      <td>2.7</td>\n",
       "      <td>86.1</td>\n",
       "      <td>10.8</td>\n",
       "      <td>210.2</td>\n",
       "      <td>100</td>\n",
       "      <td>1018.1</td>\n",
       "      <td>1</td>\n",
       "      <td>0</td>\n",
       "      <td>51.1</td>\n",
       "      <td>56.1</td>\n",
       "      <td>40.3</td>\n",
       "    </tr>\n",
       "    <tr>\n",
       "      <th>364</th>\n",
       "      <td>2022-12-31</td>\n",
       "      <td>6.0</td>\n",
       "      <td>85.9</td>\n",
       "      <td>18.1</td>\n",
       "      <td>232.7</td>\n",
       "      <td>0</td>\n",
       "      <td>1018.9</td>\n",
       "      <td>1</td>\n",
       "      <td>1</td>\n",
       "      <td>35.7</td>\n",
       "      <td>40.0</td>\n",
       "      <td>18.4</td>\n",
       "    </tr>\n",
       "  </tbody>\n",
       "</table>\n",
       "<p>365 rows × 12 columns</p>\n",
       "</div>"
      ],
      "text/plain": [
       "       datetime  temp  humidity  windspeed  winddir  precipprob  \\\n",
       "0    2022-01-01   9.8      93.3       25.1    246.6         100   \n",
       "1    2022-01-02   8.5      89.1       26.8    228.9         100   \n",
       "2    2022-01-03   8.8      72.0       37.5    239.8         100   \n",
       "3    2022-01-04   7.9      82.8       24.4    214.1         100   \n",
       "4    2022-01-05   5.0      90.0       28.7    244.6         100   \n",
       "..          ...   ...       ...        ...      ...         ...   \n",
       "360  2022-12-27   4.9      77.5       37.9    250.1         100   \n",
       "361  2022-12-28   1.8      77.0       18.0    221.4         100   \n",
       "362  2022-12-29   3.8      72.7       16.3    227.3           0   \n",
       "363  2022-12-30   2.7      86.1       10.8    210.2         100   \n",
       "364  2022-12-31   6.0      85.9       18.1    232.7           0   \n",
       "\n",
       "     sealevelpressure  heating sezon  weekend  smog Złoty Róg  smog Bulwarowa  \\\n",
       "0              1020.3              1        1            16.2             NaN   \n",
       "1              1018.0              1        1            24.9            21.5   \n",
       "2              1009.2              1        0            11.7            12.5   \n",
       "3              1000.3              1        0             7.5            10.4   \n",
       "4              1000.1              1        0            10.3            12.2   \n",
       "..                ...            ...      ...             ...             ...   \n",
       "360            1021.9              1        0            12.9            14.3   \n",
       "361            1022.8              1        0            19.2            28.4   \n",
       "362            1015.5              1        0            30.2            40.9   \n",
       "363            1018.1              1        0            51.1            56.1   \n",
       "364            1018.9              1        1            35.7            40.0   \n",
       "\n",
       "     smog Swoszowice  \n",
       "0               17.4  \n",
       "1               16.9  \n",
       "2               10.0  \n",
       "3                6.4  \n",
       "4                9.8  \n",
       "..               ...  \n",
       "360             12.2  \n",
       "361             12.6  \n",
       "362             13.6  \n",
       "363             40.3  \n",
       "364             18.4  \n",
       "\n",
       "[365 rows x 12 columns]"
      ]
     },
     "execution_count": 3,
     "metadata": {},
     "output_type": "execute_result"
    }
   ],
   "source": [
    "data = weather[['datetime', 'temp', 'humidity', 'windspeed', 'winddir', 'precipprob', 'sealevelpressure']]  # tu można dodać więcej kolumn jak chcemy mieć więcej danych pogodowych\n",
    "data['heating sezon'] = time['heating_sezon']\n",
    "data['weekend'] = time['weekend']\n",
    "data['smog Złoty Róg'] = polution['Kraków, ul. Złoty Róg'] \n",
    "data['smog Bulwarowa'] = polution['Kraków, ul. Bulwarowa']\n",
    "data['smog Swoszowice'] = polution['Kraków, os. Swoszowice']\n",
    "data"
   ]
  },
  {
   "cell_type": "code",
   "execution_count": 4,
   "metadata": {},
   "outputs": [],
   "source": [
    "data.to_excel('smog_weather_data.xlsx')"
   ]
  },
  {
   "cell_type": "code",
   "execution_count": 14,
   "metadata": {},
   "outputs": [
    {
     "data": {
      "text/plain": [
       "array([[<AxesSubplot:title={'center':'temp'}>]], dtype=object)"
      ]
     },
     "execution_count": 14,
     "metadata": {},
     "output_type": "execute_result"
    },
    {
     "data": {
      "image/png": "[encoded data removed]",
      "text/plain": [
       "<Figure size 432x288 with 1 Axes>"
      ]
     },
     "metadata": {
      "needs_background": "light"
     },
     "output_type": "display_data"
    }
   ],
   "source": [
    "data.hist('temp') # Histogram temperatury"
   ]
  },
  {
   "cell_type": "code",
   "execution_count": 10,
   "metadata": {},
   "outputs": [
    {
     "data": {
      "text/plain": [
       "array([[<AxesSubplot:title={'center':'smog'}>]], dtype=object)"
      ]
     },
     "execution_count": 10,
     "metadata": {},
     "output_type": "execute_result"
    },
    {
     "data": {
      "image/png": "[encoded data removed]",
      "text/plain": [
       "<Figure size 432x288 with 1 Axes>"
      ]
     },
     "metadata": {
      "needs_background": "light"
     },
     "output_type": "display_data"
    }
   ],
   "source": [
    "data.hist('smog')"
   ]
  },
  {
   "cell_type": "code",
   "execution_count": 11,
   "metadata": {},
   "outputs": [
    {
     "data": {
      "text/plain": [
       "array([[<AxesSubplot:title={'center':'windspeed'}>]], dtype=object)"
      ]
     },
     "execution_count": 11,
     "metadata": {},
     "output_type": "execute_result"
    },
    {
     "data": {
      "image/png": "[encoded data removed]",
      "text/plain": [
       "<Figure size 432x288 with 1 Axes>"
      ]
     },
     "metadata": {
      "needs_background": "light"
     },
     "output_type": "display_data"
    }
   ],
   "source": [
    "data.hist('windspeed')"
   ]
  },
  {
   "cell_type": "code",
   "execution_count": 21,
   "metadata": {},
   "outputs": [
    {
     "data": {
      "image/png": "[encoded data removed]",
      "text/plain": [
       "<Figure size 432x288 with 1 Axes>"
      ]
     },
     "metadata": {
      "needs_background": "light"
     },
     "output_type": "display_data"
    }
   ],
   "source": [
    "plt.plot(data['temp'], label = 'temp')\n",
    "plt.plot(data['smog'], label = 'smog')\n",
    "plt.plot(data['windspeed'], label = 'windspeed')\n",
    "plt.legend()\n",
    "plt.show()"
   ]
  }
 ],
 "metadata": {
  "kernelspec": {
   "display_name": "Python 3",
   "language": "python",
   "name": "python3"
  },
  "language_info": {
   "codemirror_mode": {
    "name": "ipython",
    "version": 3
   },
   "file_extension": ".py",
   "mimetype": "text/x-python",
   "name": "python",
   "nbconvert_exporter": "python",
   "pygments_lexer": "ipython3",
   "version": "3.8.3"
  },
  "orig_nbformat": 4
 },
 "nbformat": 4,
 "nbformat_minor": 2
}
