{
 "cells": [
  {
   "cell_type": "code",
   "execution_count": 3,
   "metadata": {},
   "outputs": [],
   "source": [
    "import pandas as pd\n",
    "import matplotlib.pyplot as plt\n",
    "import seaborn as sns\n",
    "import arviz as az \n",
    "from cmdstanpy import CmdStanModel\n",
    "from statsmodels.nonparametric.smoothers_lowess import lowess"
   ]
  },
  {
   "cell_type": "markdown",
   "metadata": {},
   "source": [
    "## Data preperation"
   ]
  },
  {
   "cell_type": "code",
   "execution_count": 4,
   "metadata": {},
   "outputs": [],
   "source": [
    "weather = pd.read_csv('weather.csv')\n",
    "smog_relation = pd.read_excel('smog_weather_data.xlsx')"
   ]
  },
  {
   "cell_type": "code",
   "execution_count": 5,
   "metadata": {},
   "outputs": [
    {
     "data": {
      "text/html": [
       "<div>\n",
       "<style scoped>\n",
       "    .dataframe tbody tr th:only-of-type {\n",
       "        vertical-align: middle;\n",
       "    }\n",
       "\n",
       "    .dataframe tbody tr th {\n",
       "        vertical-align: top;\n",
       "    }\n",
       "\n",
       "    .dataframe thead th {\n",
       "        text-align: right;\n",
       "    }\n",
       "</style>\n",
       "<table border=\"1\" class=\"dataframe\">\n",
       "  <thead>\n",
       "    <tr style=\"text-align: right;\">\n",
       "      <th></th>\n",
       "      <th>datetime</th>\n",
       "      <th>temp</th>\n",
       "      <th>humidity</th>\n",
       "      <th>windspeed</th>\n",
       "      <th>winddir</th>\n",
       "      <th>precipprob</th>\n",
       "      <th>sealevelpressure</th>\n",
       "      <th>heating sezon</th>\n",
       "      <th>weekend</th>\n",
       "      <th>smog Złoty Róg</th>\n",
       "      <th>smog Bulwarowa</th>\n",
       "      <th>smog Swoszowice</th>\n",
       "    </tr>\n",
       "  </thead>\n",
       "  <tbody>\n",
       "    <tr>\n",
       "      <th>0</th>\n",
       "      <td>2022-01-01</td>\n",
       "      <td>9.8</td>\n",
       "      <td>93.3</td>\n",
       "      <td>25.1</td>\n",
       "      <td>246.6</td>\n",
       "      <td>1</td>\n",
       "      <td>1020.3</td>\n",
       "      <td>1</td>\n",
       "      <td>1</td>\n",
       "      <td>16.2</td>\n",
       "      <td>NaN</td>\n",
       "      <td>17.4</td>\n",
       "    </tr>\n",
       "    <tr>\n",
       "      <th>1</th>\n",
       "      <td>2022-01-02</td>\n",
       "      <td>8.5</td>\n",
       "      <td>89.1</td>\n",
       "      <td>26.8</td>\n",
       "      <td>228.9</td>\n",
       "      <td>1</td>\n",
       "      <td>1018.0</td>\n",
       "      <td>1</td>\n",
       "      <td>1</td>\n",
       "      <td>24.9</td>\n",
       "      <td>21.5</td>\n",
       "      <td>16.9</td>\n",
       "    </tr>\n",
       "    <tr>\n",
       "      <th>2</th>\n",
       "      <td>2022-01-03</td>\n",
       "      <td>8.8</td>\n",
       "      <td>72.0</td>\n",
       "      <td>37.5</td>\n",
       "      <td>239.8</td>\n",
       "      <td>1</td>\n",
       "      <td>1009.2</td>\n",
       "      <td>1</td>\n",
       "      <td>0</td>\n",
       "      <td>11.7</td>\n",
       "      <td>12.5</td>\n",
       "      <td>10.0</td>\n",
       "    </tr>\n",
       "    <tr>\n",
       "      <th>3</th>\n",
       "      <td>2022-01-04</td>\n",
       "      <td>7.9</td>\n",
       "      <td>82.8</td>\n",
       "      <td>24.4</td>\n",
       "      <td>214.1</td>\n",
       "      <td>1</td>\n",
       "      <td>1000.3</td>\n",
       "      <td>1</td>\n",
       "      <td>0</td>\n",
       "      <td>7.5</td>\n",
       "      <td>10.4</td>\n",
       "      <td>6.4</td>\n",
       "    </tr>\n",
       "    <tr>\n",
       "      <th>4</th>\n",
       "      <td>2022-01-05</td>\n",
       "      <td>5.0</td>\n",
       "      <td>90.0</td>\n",
       "      <td>28.7</td>\n",
       "      <td>244.6</td>\n",
       "      <td>1</td>\n",
       "      <td>1000.1</td>\n",
       "      <td>1</td>\n",
       "      <td>0</td>\n",
       "      <td>10.3</td>\n",
       "      <td>12.2</td>\n",
       "      <td>9.8</td>\n",
       "    </tr>\n",
       "  </tbody>\n",
       "</table>\n",
       "</div>"
      ],
      "text/plain": [
       "     datetime  temp  humidity  windspeed  winddir  precipprob  \\\n",
       "0  2022-01-01   9.8      93.3       25.1    246.6           1   \n",
       "1  2022-01-02   8.5      89.1       26.8    228.9           1   \n",
       "2  2022-01-03   8.8      72.0       37.5    239.8           1   \n",
       "3  2022-01-04   7.9      82.8       24.4    214.1           1   \n",
       "4  2022-01-05   5.0      90.0       28.7    244.6           1   \n",
       "\n",
       "   sealevelpressure  heating sezon  weekend  smog Złoty Róg  smog Bulwarowa  \\\n",
       "0            1020.3              1        1            16.2             NaN   \n",
       "1            1018.0              1        1            24.9            21.5   \n",
       "2            1009.2              1        0            11.7            12.5   \n",
       "3            1000.3              1        0             7.5            10.4   \n",
       "4            1000.1              1        0            10.3            12.2   \n",
       "\n",
       "   smog Swoszowice  \n",
       "0             17.4  \n",
       "1             16.9  \n",
       "2             10.0  \n",
       "3              6.4  \n",
       "4              9.8  "
      ]
     },
     "execution_count": 5,
     "metadata": {},
     "output_type": "execute_result"
    }
   ],
   "source": [
    "smog_relation.head()"
   ]
  },
  {
   "cell_type": "code",
   "execution_count": 6,
   "metadata": {},
   "outputs": [],
   "source": [
    "cols_to_drop = weather.columns[-5:]\n",
    "weather = weather.drop(columns=cols_to_drop).set_index('datetime')\n",
    "smog_relation = smog_relation.set_index('datetime')\n",
    "weather.index = pd.to_datetime(weather.index)\n",
    "smog_relation.index = pd.to_datetime(smog_relation.index, format='mixed')"
   ]
  },
  {
   "cell_type": "code",
   "execution_count": 8,
   "metadata": {},
   "outputs": [],
   "source": [
    "# Bronowice\n",
    "data_1 = pd.merge(weather, smog_relation, left_index=True, right_index=True).rename(columns={'smog Złoty Róg': 'smog'}).drop(columns=['name', 'preciptype','sunrise', 'sunset'])"
   ]
  },
  {
   "cell_type": "code",
   "execution_count": 9,
   "metadata": {},
   "outputs": [],
   "source": [
    "# Nowa Huta\n",
    "data_2 = pd.merge(weather, smog_relation, left_index=True, right_index=True).rename(columns={'smog Bulwarowa': 'smog'}).drop(columns=['name', 'preciptype','sunrise', 'sunset'])"
   ]
  },
  {
   "cell_type": "code",
   "execution_count": 10,
   "metadata": {},
   "outputs": [],
   "source": [
    "# Swoszowice\n",
    "data_3 = pd.merge(weather, smog_relation, left_index=True, right_index=True).rename(columns={'smog Swoszowice': 'smog'}).drop(columns=['name', 'preciptype','sunrise', 'sunset'])"
   ]
  },
  {
   "cell_type": "markdown",
   "metadata": {},
   "source": [
    "## Data visualization"
   ]
  },
  {
   "cell_type": "code",
   "execution_count": 11,
   "metadata": {},
   "outputs": [
    {
     "data": {
      "image/png": "[encoded data removed]",
      "text/plain": [
       "<Figure size 432x288 with 1 Axes>"
      ]
     },
     "metadata": {
      "needs_background": "light"
     },
     "output_type": "display_data"
    },
    {
     "data": {
      "image/png": "[encoded data removed]",
      "text/plain": [
       "<Figure size 432x288 with 1 Axes>"
      ]
     },
     "metadata": {
      "needs_background": "light"
     },
     "output_type": "display_data"
    },
    {
     "data": {
      "image/png": "[encoded data removed]",
      "text/plain": [
       "<Figure size 432x288 with 1 Axes>"
      ]
     },
     "metadata": {
      "needs_background": "light"
     },
     "output_type": "display_data"
    }
   ],
   "source": [
    "data_1.smog.plot(style='.', markersize=8, color='orange')\n",
    "smoothed = lowess(data_1.smog.values, data_1.smog.index)\n",
    "plt.plot(smoothed[:, 0].astype('datetime64[ns]'), smoothed[:, 1], color='navy')\n",
    "plt.title('Scatter plot of smog in Cracow on\\n Złoty Róg Street with LOWESS smoothing')\n",
    "plt.show()\n",
    "\n",
    "data_2.smog.plot(style='.', markersize=8, color='orange')\n",
    "smoothed = lowess(data_2.smog.values, data_2.smog.index)\n",
    "plt.plot(smoothed[:, 0].astype('datetime64[ns]'), smoothed[:, 1], color='navy')\n",
    "plt.title('Scatter plot of smog in Cracow on\\n Bulwarowa Street with LOWESS smoothing')\n",
    "plt.show()\n",
    "\n",
    "data_3.smog.plot(style='.', markersize=8, color='orange')\n",
    "smoothed = lowess(data_1.smog.values, data_1.smog.index)\n",
    "plt.plot(smoothed[:, 0].astype('datetime64[ns]'), smoothed[:, 1], color='navy')\n",
    "plt.title('Scatter plot of smog in Cracow in\\n Swoszowice with LOWESS smoothing')\n",
    "plt.show()"
   ]
  },
  {
   "cell_type": "code",
   "execution_count": 12,
   "metadata": {},
   "outputs": [
    {
     "name": "stderr",
     "output_type": "stream",
     "text": [
      "/usr/local/lib/python3.9/site-packages/seaborn/axisgrid.py:118: UserWarning: The figure layout has changed to tight\n",
      "  self._figure.tight_layout(*args, **kwargs)\n"
     ]
    },
    {
     "data": {
      "image/png": "[encoded data removed]",
      "text/plain": [
       "<Figure size 360x360 with 1 Axes>"
      ]
     },
     "metadata": {
      "needs_background": "light"
     },
     "output_type": "display_data"
    },
    {
     "name": "stderr",
     "output_type": "stream",
     "text": [
      "/usr/local/lib/python3.9/site-packages/seaborn/axisgrid.py:118: UserWarning: The figure layout has changed to tight\n",
      "  self._figure.tight_layout(*args, **kwargs)\n"
     ]
    },
    {
     "data": {
      "image/png": "[encoded data removed]",
      "text/plain": [
       "<Figure size 360x360 with 1 Axes>"
      ]
     },
     "metadata": {
      "needs_background": "light"
     },
     "output_type": "display_data"
    },
    {
     "name": "stderr",
     "output_type": "stream",
     "text": [
      "/usr/local/lib/python3.9/site-packages/seaborn/axisgrid.py:118: UserWarning: The figure layout has changed to tight\n",
      "  self._figure.tight_layout(*args, **kwargs)\n"
     ]
    },
    {
     "data": {
      "image/png": "[encoded data removed]",
      "text/plain": [
       "<Figure size 360x360 with 1 Axes>"
      ]
     },
     "metadata": {
      "needs_background": "light"
     },
     "output_type": "display_data"
    }
   ],
   "source": [
    "sns.displot(data_1['smog'], kde=True, color='darkblue', facecolor='orange', edgecolor=\"#ffcc99\")\n",
    "plt.title('Histogram of target value - smog in Cracow on Złoty Róg Street \\nwith Kernel Density Estimation')\n",
    "plt.show()\n",
    "\n",
    "sns.displot(data_2['smog'], kde=True, color='darkblue', facecolor='orange', edgecolor=\"#ffcc99\")\n",
    "plt.title('Histogram of target value - smog in Cracow on Bulwarowa Street \\nwith Kernel Density Estimation')\n",
    "plt.show()\n",
    "\n",
    "sns.displot(data_3['smog'], kde=True, color='darkblue', facecolor='orange', edgecolor=\"#ffcc99\")\n",
    "plt.title('Histogram of target value - smog in Cracow in Swoszowice \\nwith Kernel Density Estimation')\n",
    "plt.show()"
   ]
  },
  {
   "cell_type": "markdown",
   "metadata": {},
   "source": [
    "## Differrence data"
   ]
  },
  {
   "cell_type": "code",
   "execution_count": 13,
   "metadata": {},
   "outputs": [
    {
     "data": {
      "text/html": [
       "<div>\n",
       "<style scoped>\n",
       "    .dataframe tbody tr th:only-of-type {\n",
       "        vertical-align: middle;\n",
       "    }\n",
       "\n",
       "    .dataframe tbody tr th {\n",
       "        vertical-align: top;\n",
       "    }\n",
       "\n",
       "    .dataframe thead th {\n",
       "        text-align: right;\n",
       "    }\n",
       "</style>\n",
       "<table border=\"1\" class=\"dataframe\">\n",
       "  <thead>\n",
       "    <tr style=\"text-align: right;\">\n",
       "      <th></th>\n",
       "      <th>temp</th>\n",
       "      <th>humidity</th>\n",
       "      <th>windspeed</th>\n",
       "      <th>winddir</th>\n",
       "      <th>precipprob</th>\n",
       "      <th>sealevelpressure</th>\n",
       "      <th>heating sezon</th>\n",
       "      <th>weekend</th>\n",
       "      <th>smog Złoty Róg</th>\n",
       "      <th>smog Bulwarowa</th>\n",
       "      <th>smog Swoszowice</th>\n",
       "    </tr>\n",
       "  </thead>\n",
       "  <tbody>\n",
       "    <tr>\n",
       "      <th>count</th>\n",
       "      <td>365.000000</td>\n",
       "      <td>365.000000</td>\n",
       "      <td>365.000000</td>\n",
       "      <td>365.000000</td>\n",
       "      <td>365.000000</td>\n",
       "      <td>365.000000</td>\n",
       "      <td>365.000000</td>\n",
       "      <td>365.000000</td>\n",
       "      <td>363.000000</td>\n",
       "      <td>364.000000</td>\n",
       "      <td>364.000000</td>\n",
       "    </tr>\n",
       "    <tr>\n",
       "      <th>mean</th>\n",
       "      <td>9.784110</td>\n",
       "      <td>75.118356</td>\n",
       "      <td>20.598356</td>\n",
       "      <td>177.084384</td>\n",
       "      <td>0.676712</td>\n",
       "      <td>1017.904932</td>\n",
       "      <td>0.624658</td>\n",
       "      <td>0.145205</td>\n",
       "      <td>27.579063</td>\n",
       "      <td>30.665934</td>\n",
       "      <td>24.464011</td>\n",
       "    </tr>\n",
       "    <tr>\n",
       "      <th>std</th>\n",
       "      <td>7.957246</td>\n",
       "      <td>13.351763</td>\n",
       "      <td>8.217480</td>\n",
       "      <td>102.871982</td>\n",
       "      <td>0.468374</td>\n",
       "      <td>8.131500</td>\n",
       "      <td>0.484876</td>\n",
       "      <td>0.352791</td>\n",
       "      <td>14.609631</td>\n",
       "      <td>17.128022</td>\n",
       "      <td>13.795016</td>\n",
       "    </tr>\n",
       "    <tr>\n",
       "      <th>min</th>\n",
       "      <td>-9.900000</td>\n",
       "      <td>43.200000</td>\n",
       "      <td>3.800000</td>\n",
       "      <td>8.100000</td>\n",
       "      <td>0.000000</td>\n",
       "      <td>995.500000</td>\n",
       "      <td>0.000000</td>\n",
       "      <td>0.000000</td>\n",
       "      <td>6.200000</td>\n",
       "      <td>5.500000</td>\n",
       "      <td>5.300000</td>\n",
       "    </tr>\n",
       "    <tr>\n",
       "      <th>25%</th>\n",
       "      <td>2.900000</td>\n",
       "      <td>64.800000</td>\n",
       "      <td>14.300000</td>\n",
       "      <td>50.700000</td>\n",
       "      <td>0.000000</td>\n",
       "      <td>1012.800000</td>\n",
       "      <td>0.000000</td>\n",
       "      <td>0.000000</td>\n",
       "      <td>17.300000</td>\n",
       "      <td>18.400000</td>\n",
       "      <td>15.075000</td>\n",
       "    </tr>\n",
       "    <tr>\n",
       "      <th>50%</th>\n",
       "      <td>9.900000</td>\n",
       "      <td>77.400000</td>\n",
       "      <td>19.000000</td>\n",
       "      <td>228.900000</td>\n",
       "      <td>1.000000</td>\n",
       "      <td>1018.300000</td>\n",
       "      <td>1.000000</td>\n",
       "      <td>0.000000</td>\n",
       "      <td>23.800000</td>\n",
       "      <td>25.600000</td>\n",
       "      <td>20.500000</td>\n",
       "    </tr>\n",
       "    <tr>\n",
       "      <th>75%</th>\n",
       "      <td>16.100000</td>\n",
       "      <td>86.000000</td>\n",
       "      <td>24.900000</td>\n",
       "      <td>253.400000</td>\n",
       "      <td>1.000000</td>\n",
       "      <td>1022.600000</td>\n",
       "      <td>1.000000</td>\n",
       "      <td>0.000000</td>\n",
       "      <td>34.600000</td>\n",
       "      <td>37.525000</td>\n",
       "      <td>30.825000</td>\n",
       "    </tr>\n",
       "    <tr>\n",
       "      <th>max</th>\n",
       "      <td>27.500000</td>\n",
       "      <td>97.600000</td>\n",
       "      <td>54.700000</td>\n",
       "      <td>354.800000</td>\n",
       "      <td>1.000000</td>\n",
       "      <td>1042.500000</td>\n",
       "      <td>1.000000</td>\n",
       "      <td>1.000000</td>\n",
       "      <td>88.500000</td>\n",
       "      <td>92.200000</td>\n",
       "      <td>100.300000</td>\n",
       "    </tr>\n",
       "  </tbody>\n",
       "</table>\n",
       "</div>"
      ],
      "text/plain": [
       "             temp    humidity   windspeed     winddir  precipprob  \\\n",
       "count  365.000000  365.000000  365.000000  365.000000  365.000000   \n",
       "mean     9.784110   75.118356   20.598356  177.084384    0.676712   \n",
       "std      7.957246   13.351763    8.217480  102.871982    0.468374   \n",
       "min     -9.900000   43.200000    3.800000    8.100000    0.000000   \n",
       "25%      2.900000   64.800000   14.300000   50.700000    0.000000   \n",
       "50%      9.900000   77.400000   19.000000  228.900000    1.000000   \n",
       "75%     16.100000   86.000000   24.900000  253.400000    1.000000   \n",
       "max     27.500000   97.600000   54.700000  354.800000    1.000000   \n",
       "\n",
       "       sealevelpressure  heating sezon     weekend  smog Złoty Róg  \\\n",
       "count        365.000000     365.000000  365.000000      363.000000   \n",
       "mean        1017.904932       0.624658    0.145205       27.579063   \n",
       "std            8.131500       0.484876    0.352791       14.609631   \n",
       "min          995.500000       0.000000    0.000000        6.200000   \n",
       "25%         1012.800000       0.000000    0.000000       17.300000   \n",
       "50%         1018.300000       1.000000    0.000000       23.800000   \n",
       "75%         1022.600000       1.000000    0.000000       34.600000   \n",
       "max         1042.500000       1.000000    1.000000       88.500000   \n",
       "\n",
       "       smog Bulwarowa  smog Swoszowice  \n",
       "count      364.000000       364.000000  \n",
       "mean        30.665934        24.464011  \n",
       "std         17.128022        13.795016  \n",
       "min          5.500000         5.300000  \n",
       "25%         18.400000        15.075000  \n",
       "50%         25.600000        20.500000  \n",
       "75%         37.525000        30.825000  \n",
       "max         92.200000       100.300000  "
      ]
     },
     "execution_count": 13,
     "metadata": {},
     "output_type": "execute_result"
    }
   ],
   "source": [
    "smog_relation.describe()"
   ]
  },
  {
   "cell_type": "code",
   "execution_count": 14,
   "metadata": {},
   "outputs": [],
   "source": [
    "smog_relation['pressure_diff'] = smog_relation['sealevelpressure'] - smog_relation['sealevelpressure'].mean()"
   ]
  },
  {
   "cell_type": "code",
   "execution_count": 15,
   "metadata": {},
   "outputs": [
    {
     "data": {
      "text/plain": [
       "count    3.650000e+02\n",
       "mean     4.858944e-14\n",
       "std      8.131500e+00\n",
       "min     -2.240493e+01\n",
       "25%     -5.104932e+00\n",
       "50%      3.950685e-01\n",
       "75%      4.695068e+00\n",
       "max      2.459507e+01\n",
       "Name: pressure_diff, dtype: float64"
      ]
     },
     "execution_count": 15,
     "metadata": {},
     "output_type": "execute_result"
    }
   ],
   "source": [
    "smog_relation['pressure_diff'].describe()"
   ]
  },
  {
   "cell_type": "markdown",
   "metadata": {},
   "source": [
    "## Pressure's influence on windspeed"
   ]
  },
  {
   "cell_type": "code",
   "execution_count": 16,
   "metadata": {},
   "outputs": [
    {
     "name": "stdout",
     "output_type": "stream",
     "text": [
      "Overwriting wind_speed_ppc.stan\n"
     ]
    }
   ],
   "source": [
    "%%writefile wind_speed_ppc.stan\n",
    "\n",
    "generated quantities {\n",
    "  real alpha = normal_rng(20, 1);\n",
    "  real beta = normal_rng(0, 1);\n",
    "  real sigma = normal_rng(10, 1);\n",
    "  real pressure_diff = normal_rng(0, 10);\n",
    "  real wind_speed = normal_rng(alpha + beta * pressure_diff, sigma);\n",
    "}"
   ]
  },
  {
   "cell_type": "code",
   "execution_count": 17,
   "metadata": {},
   "outputs": [
    {
     "name": "stdout",
     "output_type": "stream",
     "text": [
      "Overwriting wind_speed_fit.stan\n"
     ]
    }
   ],
   "source": [
    "%%writefile wind_speed_fit.stan\n",
    "\n",
    "data {\n",
    "  int<lower=0> N;  // number of observations\n",
    "  vector[N] pressure;  // pressure data\n",
    "  vector[N] wind_speed;  // wind speed data\n",
    "}\n",
    "\n",
    "parameters {\n",
    "  real alpha;  // intercept for wind_speed ~ pressure\n",
    "  real beta;  // coefficient for pressure\n",
    "  real<lower=0> sigma;  // standard deviation for wind_speed ~ pressure\n",
    "}\n",
    "\n",
    "model {\n",
    "  // Priors\n",
    "  alpha ~ normal(20, 1);\n",
    "  beta ~ normal(0, 1);\n",
    "  sigma ~ normal(10, 1);\n",
    "\n",
    "  // Likelihood\n",
    "  wind_speed ~ normal(alpha + beta * pressure, sigma);\n",
    "}\n",
    "\n",
    "generated quantities {\n",
    "    real wind_speed_hat[N] = normal_rng(alpha + beta * pressure, sigma);\n",
    "}"
   ]
  },
  {
   "cell_type": "code",
   "execution_count": 18,
   "metadata": {},
   "outputs": [
    {
     "name": "stderr",
     "output_type": "stream",
     "text": [
      "18:55:55 - cmdstanpy - INFO - compiling stan file /home/DA_project/wind_speed_ppc.stan to exe file /home/DA_project/wind_speed_ppc\n"
     ]
    },
    {
     "name": "stderr",
     "output_type": "stream",
     "text": [
      "18:56:08 - cmdstanpy - INFO - compiled model executable: /home/DA_project/wind_speed_ppc\n"
     ]
    }
   ],
   "source": [
    "wind_speed_ppc = CmdStanModel(stan_file='./wind_speed_ppc.stan')"
   ]
  },
  {
   "cell_type": "code",
   "execution_count": 19,
   "metadata": {},
   "outputs": [
    {
     "name": "stderr",
     "output_type": "stream",
     "text": [
      "18:56:08 - cmdstanpy - INFO - CmdStan start processing\n"
     ]
    },
    {
     "data": {
      "application/json": {
       "ascii": false,
       "bar_format": "{desc} |{bar}| {elapsed} {postfix[0][value]}",
       "colour": null,
       "elapsed": 0.00488734245300293,
       "initial": 0,
       "n": 0,
       "ncols": null,
       "nrows": null,
       "postfix": [
        {
         "value": "Status"
        }
       ],
       "prefix": "chain 1",
       "rate": null,
       "total": 22,
       "unit": "it",
       "unit_divisor": 1000,
       "unit_scale": false
      },
      "application/vnd.jupyter.widget-view+json": {
       "model_id": "d44339afffc9479a88bb6eb04eb64948",
       "version_major": 2,
       "version_minor": 0
      },
      "text/plain": [
       "chain 1 |          | 00:00 Status"
      ]
     },
     "metadata": {},
     "output_type": "display_data"
    },
    {
     "data": {
      "application/json": {
       "ascii": false,
       "bar_format": "{desc} |{bar}| {elapsed} {postfix[0][value]}",
       "colour": null,
       "elapsed": 0.0035266876220703125,
       "initial": 0,
       "n": 0,
       "ncols": null,
       "nrows": null,
       "postfix": [
        {
         "value": "Status"
        }
       ],
       "prefix": "chain 2",
       "rate": null,
       "total": 22,
       "unit": "it",
       "unit_divisor": 1000,
       "unit_scale": false
      },
      "application/vnd.jupyter.widget-view+json": {
       "model_id": "4c17be7e829e408e9977c79c68fade7c",
       "version_major": 2,
       "version_minor": 0
      },
      "text/plain": [
       "chain 2 |          | 00:00 Status"
      ]
     },
     "metadata": {},
     "output_type": "display_data"
    },
    {
     "data": {
      "application/json": {
       "ascii": false,
       "bar_format": "{desc} |{bar}| {elapsed} {postfix[0][value]}",
       "colour": null,
       "elapsed": 0.0037374496459960938,
       "initial": 0,
       "n": 0,
       "ncols": null,
       "nrows": null,
       "postfix": [
        {
         "value": "Status"
        }
       ],
       "prefix": "chain 3",
       "rate": null,
       "total": 22,
       "unit": "it",
       "unit_divisor": 1000,
       "unit_scale": false
      },
      "application/vnd.jupyter.widget-view+json": {
       "model_id": "9bd72aa748dc49cea5b1635ef6868ba2",
       "version_major": 2,
       "version_minor": 0
      },
      "text/plain": [
       "chain 3 |          | 00:00 Status"
      ]
     },
     "metadata": {},
     "output_type": "display_data"
    },
    {
     "data": {
      "application/json": {
       "ascii": false,
       "bar_format": "{desc} |{bar}| {elapsed} {postfix[0][value]}",
       "colour": null,
       "elapsed": 0.003575563430786133,
       "initial": 0,
       "n": 0,
       "ncols": null,
       "nrows": null,
       "postfix": [
        {
         "value": "Status"
        }
       ],
       "prefix": "chain 4",
       "rate": null,
       "total": 22,
       "unit": "it",
       "unit_divisor": 1000,
       "unit_scale": false
      },
      "application/vnd.jupyter.widget-view+json": {
       "model_id": "9680f5bdda0f42eb9e944106ea72b2a8",
       "version_major": 2,
       "version_minor": 0
      },
      "text/plain": [
       "chain 4 |          | 00:00 Status"
      ]
     },
     "metadata": {},
     "output_type": "display_data"
    },
    {
     "name": "stdout",
     "output_type": "stream",
     "text": [
      "                                                                                                                                                                                                                                                                                                                                "
     ]
    },
    {
     "name": "stderr",
     "output_type": "stream",
     "text": [
      "18:56:08 - cmdstanpy - INFO - CmdStan done processing.\n"
     ]
    },
    {
     "name": "stdout",
     "output_type": "stream",
     "text": [
      "\n"
     ]
    },
    {
     "data": {
      "text/html": [
       "<div>\n",
       "<style scoped>\n",
       "    .dataframe tbody tr th:only-of-type {\n",
       "        vertical-align: middle;\n",
       "    }\n",
       "\n",
       "    .dataframe tbody tr th {\n",
       "        vertical-align: top;\n",
       "    }\n",
       "\n",
       "    .dataframe thead th {\n",
       "        text-align: right;\n",
       "    }\n",
       "</style>\n",
       "<table border=\"1\" class=\"dataframe\">\n",
       "  <thead>\n",
       "    <tr style=\"text-align: right;\">\n",
       "      <th></th>\n",
       "      <th>Mean</th>\n",
       "      <th>MCSE</th>\n",
       "      <th>StdDev</th>\n",
       "      <th>5%</th>\n",
       "      <th>50%</th>\n",
       "      <th>95%</th>\n",
       "      <th>N_Eff</th>\n",
       "      <th>N_Eff/s</th>\n",
       "      <th>R_hat</th>\n",
       "    </tr>\n",
       "  </thead>\n",
       "  <tbody>\n",
       "    <tr>\n",
       "      <th>alpha</th>\n",
       "      <td>20.007600</td>\n",
       "      <td>0.015739</td>\n",
       "      <td>1.00751</td>\n",
       "      <td>18.33730</td>\n",
       "      <td>19.999300</td>\n",
       "      <td>21.65790</td>\n",
       "      <td>4097.76</td>\n",
       "      <td>341480.0</td>\n",
       "      <td>0.999359</td>\n",
       "    </tr>\n",
       "    <tr>\n",
       "      <th>beta</th>\n",
       "      <td>-0.001337</td>\n",
       "      <td>0.015979</td>\n",
       "      <td>1.00705</td>\n",
       "      <td>-1.63979</td>\n",
       "      <td>-0.000185</td>\n",
       "      <td>1.65189</td>\n",
       "      <td>3971.75</td>\n",
       "      <td>330979.0</td>\n",
       "      <td>0.999984</td>\n",
       "    </tr>\n",
       "    <tr>\n",
       "      <th>sigma</th>\n",
       "      <td>10.016700</td>\n",
       "      <td>0.016250</td>\n",
       "      <td>0.99792</td>\n",
       "      <td>8.35568</td>\n",
       "      <td>10.022800</td>\n",
       "      <td>11.62200</td>\n",
       "      <td>3771.28</td>\n",
       "      <td>314273.0</td>\n",
       "      <td>1.000410</td>\n",
       "    </tr>\n",
       "    <tr>\n",
       "      <th>pressure_diff</th>\n",
       "      <td>0.237668</td>\n",
       "      <td>0.160250</td>\n",
       "      <td>10.35120</td>\n",
       "      <td>-16.69680</td>\n",
       "      <td>0.178100</td>\n",
       "      <td>17.08040</td>\n",
       "      <td>4172.44</td>\n",
       "      <td>347703.0</td>\n",
       "      <td>0.999458</td>\n",
       "    </tr>\n",
       "    <tr>\n",
       "      <th>wind_speed</th>\n",
       "      <td>19.816200</td>\n",
       "      <td>0.229669</td>\n",
       "      <td>14.51000</td>\n",
       "      <td>-3.50632</td>\n",
       "      <td>19.874500</td>\n",
       "      <td>43.19740</td>\n",
       "      <td>3991.45</td>\n",
       "      <td>332620.0</td>\n",
       "      <td>0.999351</td>\n",
       "    </tr>\n",
       "  </tbody>\n",
       "</table>\n",
       "</div>"
      ],
      "text/plain": [
       "                    Mean      MCSE    StdDev        5%        50%       95%  \\\n",
       "alpha          20.007600  0.015739   1.00751  18.33730  19.999300  21.65790   \n",
       "beta           -0.001337  0.015979   1.00705  -1.63979  -0.000185   1.65189   \n",
       "sigma          10.016700  0.016250   0.99792   8.35568  10.022800  11.62200   \n",
       "pressure_diff   0.237668  0.160250  10.35120 -16.69680   0.178100  17.08040   \n",
       "wind_speed     19.816200  0.229669  14.51000  -3.50632  19.874500  43.19740   \n",
       "\n",
       "                 N_Eff   N_Eff/s     R_hat  \n",
       "alpha          4097.76  341480.0  0.999359  \n",
       "beta           3971.75  330979.0  0.999984  \n",
       "sigma          3771.28  314273.0  1.000410  \n",
       "pressure_diff  4172.44  347703.0  0.999458  \n",
       "wind_speed     3991.45  332620.0  0.999351  "
      ]
     },
     "execution_count": 19,
     "metadata": {},
     "output_type": "execute_result"
    }
   ],
   "source": [
    "wind_ppc = wind_speed_ppc.sample(iter_warmup=1000, iter_sampling=1000, seed=6072023)\n",
    "wind_ppc.summary()"
   ]
  },
  {
   "cell_type": "code",
   "execution_count": 20,
   "metadata": {},
   "outputs": [],
   "source": [
    "wind_ppc_data = wind_ppc.draws_pd()"
   ]
  },
  {
   "cell_type": "code",
   "execution_count": 21,
   "metadata": {},
   "outputs": [
    {
     "data": {
      "image/png": "[encoded data removed]",
      "text/plain": [
       "<Figure size 432x288 with 1 Axes>"
      ]
     },
     "metadata": {
      "needs_background": "light"
     },
     "output_type": "display_data"
    }
   ],
   "source": [
    "wind_ppc_data.wind_speed.plot.kde(label='from ppc')\n",
    "smog_relation.windspeed.plot.kde(label='from data')\n",
    "plt.xlim(-30, 60)\n",
    "plt.legend()\n",
    "plt.title(\"Wind speed KDEs\")\n",
    "plt.show()"
   ]
  },
  {
   "cell_type": "code",
   "execution_count": 22,
   "metadata": {},
   "outputs": [
    {
     "data": {
      "text/plain": [
       "(365,)"
      ]
     },
     "execution_count": 22,
     "metadata": {},
     "output_type": "execute_result"
    }
   ],
   "source": [
    "smog_relation.windspeed.values.shape"
   ]
  },
  {
   "cell_type": "code",
   "execution_count": 23,
   "metadata": {},
   "outputs": [],
   "source": [
    "smog_relation.dropna(inplace=True)"
   ]
  },
  {
   "cell_type": "code",
   "execution_count": 24,
   "metadata": {},
   "outputs": [],
   "source": [
    "pressure = smog_relation[\"pressure_diff\"].values\n",
    "windspeed = smog_relation[\"windspeed\"].values"
   ]
  },
  {
   "cell_type": "code",
   "execution_count": 25,
   "metadata": {},
   "outputs": [
    {
     "data": {
      "text/plain": [
       "count    361.000000\n",
       "mean      30.655956\n",
       "std       17.154645\n",
       "min        5.500000\n",
       "25%       18.400000\n",
       "50%       25.500000\n",
       "75%       37.200000\n",
       "max       92.200000\n",
       "Name: smog Bulwarowa, dtype: float64"
      ]
     },
     "execution_count": 25,
     "metadata": {},
     "output_type": "execute_result"
    }
   ],
   "source": [
    "smog_relation[\"smog Bulwarowa\"].describe()"
   ]
  },
  {
   "cell_type": "code",
   "execution_count": 26,
   "metadata": {},
   "outputs": [
    {
     "name": "stderr",
     "output_type": "stream",
     "text": [
      "18:56:09 - cmdstanpy - INFO - compiling stan file /home/DA_project/wind_speed_fit.stan to exe file /home/DA_project/wind_speed_fit\n",
      "18:56:23 - cmdstanpy - INFO - compiled model executable: /home/DA_project/wind_speed_fit\n",
      "18:56:23 - cmdstanpy - WARNING - Stan compiler has produced 1 warnings:\n",
      "18:56:23 - cmdstanpy - WARNING - \n",
      "--- Translating Stan model to C++ code ---\n",
      "bin/stanc  --o=/home/DA_project/wind_speed_fit.hpp /home/DA_project/wind_speed_fit.stan\n",
      "Warning in '/home/DA_project/wind_speed_fit.stan', line 25, column 4: Declaration\n",
      "    of arrays by placing brackets after a variable name is deprecated and\n",
      "    will be removed in Stan 2.32.0. Instead use the array keyword before the\n",
      "    type. This can be changed automatically using the auto-format flag to\n",
      "    stanc\n",
      "\n",
      "--- Compiling, linking C++ code ---\n",
      "g++ -std=c++1y -pthread -D_REENTRANT -Wno-sign-compare -Wno-ignored-attributes      -I stan/lib/stan_math/lib/tbb_2020.3/include    -O3 -I src -I stan/src -I lib/rapidjson_1.1.0/ -I lib/CLI11-1.9.1/ -I stan/lib/stan_math/ -I stan/lib/stan_math/lib/eigen_3.3.9 -I stan/lib/stan_math/lib/boost_1.75.0 -I stan/lib/stan_math/lib/sundials_6.0.0/include -I stan/lib/stan_math/lib/sundials_6.0.0/src/sundials    -DBOOST_DISABLE_ASSERTS          -c -Wno-ignored-attributes   -x c++ -o /home/DA_project/wind_speed_fit.o /home/DA_project/wind_speed_fit.hpp\n",
      "g++ -std=c++1y -pthread -D_REENTRANT -Wno-sign-compare -Wno-ignored-attributes      -I stan/lib/stan_math/lib/tbb_2020.3/include    -O3 -I src -I stan/src -I lib/rapidjson_1.1.0/ -I lib/CLI11-1.9.1/ -I stan/lib/stan_math/ -I stan/lib/stan_math/lib/eigen_3.3.9 -I stan/lib/stan_math/lib/boost_1.75.0 -I stan/lib/stan_math/lib/sundials_6.0.0/include -I stan/lib/stan_math/lib/sundials_6.0.0/src/sundials    -DBOOST_DISABLE_ASSERTS                -Wl,-L,\"/opt/cmdstan-2.29.0/stan/lib/stan_math/lib/tbb\" -Wl,-rpath,\"/opt/cmdstan-2.29.0/stan/lib/stan_math/lib/tbb\"      /home/DA_project/wind_speed_fit.o src/cmdstan/main.o        -Wl,-L,\"/opt/cmdstan-2.29.0/stan/lib/stan_math/lib/tbb\" -Wl,-rpath,\"/opt/cmdstan-2.29.0/stan/lib/stan_math/lib/tbb\"   stan/lib/stan_math/lib/sundials_6.0.0/lib/libsundials_nvecserial.a stan/lib/stan_math/lib/sundials_6.0.0/lib/libsundials_cvodes.a stan/lib/stan_math/lib/sundials_6.0.0/lib/libsundials_idas.a stan/lib/stan_math/lib/sundials_6.0.0/lib/libsundials_kinsol.a  stan/lib/stan_math/lib/tbb/libtbb.so.2 -o /home/DA_project/wind_speed_fit\n",
      "rm -f /home/DA_project/wind_speed_fit.o\n",
      "\n"
     ]
    }
   ],
   "source": [
    "wind_speed_fit = CmdStanModel(stan_file='./wind_speed_fit.stan')"
   ]
  },
  {
   "cell_type": "code",
   "execution_count": 27,
   "metadata": {},
   "outputs": [
    {
     "name": "stderr",
     "output_type": "stream",
     "text": [
      "18:56:23 - cmdstanpy - INFO - CmdStan start processing\n"
     ]
    },
    {
     "data": {
      "application/json": {
       "ascii": false,
       "bar_format": "{desc} |{bar}| {elapsed} {postfix[0][value]}",
       "colour": null,
       "elapsed": 0.0067136287689208984,
       "initial": 0,
       "n": 0,
       "ncols": null,
       "nrows": null,
       "postfix": [
        {
         "value": "Status"
        }
       ],
       "prefix": "chain 1",
       "rate": null,
       "total": 4,
       "unit": "it",
       "unit_divisor": 1000,
       "unit_scale": false
      },
      "application/vnd.jupyter.widget-view+json": {
       "model_id": "84e0e149a9384807b3b526cb674b4877",
       "version_major": 2,
       "version_minor": 0
      },
      "text/plain": [
       "chain 1 |          | 00:00 Status"
      ]
     },
     "metadata": {},
     "output_type": "display_data"
    },
    {
     "data": {
      "application/json": {
       "ascii": false,
       "bar_format": "{desc} |{bar}| {elapsed} {postfix[0][value]}",
       "colour": null,
       "elapsed": 0.0066928863525390625,
       "initial": 0,
       "n": 0,
       "ncols": null,
       "nrows": null,
       "postfix": [
        {
         "value": "Status"
        }
       ],
       "prefix": "chain 2",
       "rate": null,
       "total": 4,
       "unit": "it",
       "unit_divisor": 1000,
       "unit_scale": false
      },
      "application/vnd.jupyter.widget-view+json": {
       "model_id": "326e9f7db2f24bf6adfbd22a7b5c1a8f",
       "version_major": 2,
       "version_minor": 0
      },
      "text/plain": [
       "chain 2 |          | 00:00 Status"
      ]
     },
     "metadata": {},
     "output_type": "display_data"
    },
    {
     "data": {
      "application/json": {
       "ascii": false,
       "bar_format": "{desc} |{bar}| {elapsed} {postfix[0][value]}",
       "colour": null,
       "elapsed": 0.013474464416503906,
       "initial": 0,
       "n": 0,
       "ncols": null,
       "nrows": null,
       "postfix": [
        {
         "value": "Status"
        }
       ],
       "prefix": "chain 3",
       "rate": null,
       "total": 4,
       "unit": "it",
       "unit_divisor": 1000,
       "unit_scale": false
      },
      "application/vnd.jupyter.widget-view+json": {
       "model_id": "b970335d419c4452a2bc9a5fc1c6f140",
       "version_major": 2,
       "version_minor": 0
      },
      "text/plain": [
       "chain 3 |          | 00:00 Status"
      ]
     },
     "metadata": {},
     "output_type": "display_data"
    },
    {
     "data": {
      "application/json": {
       "ascii": false,
       "bar_format": "{desc} |{bar}| {elapsed} {postfix[0][value]}",
       "colour": null,
       "elapsed": 0.011690378189086914,
       "initial": 0,
       "n": 0,
       "ncols": null,
       "nrows": null,
       "postfix": [
        {
         "value": "Status"
        }
       ],
       "prefix": "chain 4",
       "rate": null,
       "total": 4,
       "unit": "it",
       "unit_divisor": 1000,
       "unit_scale": false
      },
      "application/vnd.jupyter.widget-view+json": {
       "model_id": "56f1efcce5ad4aac83658542880eb0ef",
       "version_major": 2,
       "version_minor": 0
      },
      "text/plain": [
       "chain 4 |          | 00:00 Status"
      ]
     },
     "metadata": {},
     "output_type": "display_data"
    },
    {
     "name": "stdout",
     "output_type": "stream",
     "text": [
      "                                                                                                                                                                                                                                                                                                                                "
     ]
    },
    {
     "name": "stderr",
     "output_type": "stream",
     "text": [
      "18:56:23 - cmdstanpy - INFO - CmdStan done processing.\n",
      "18:56:23 - cmdstanpy - WARNING - Non-fatal error during sampling:\n",
      "Exception: normal_lpdf: Scale parameter is 0, but must be positive! (in '/home/DA_project/wind_speed_fit.stan', line 21, column 2 to column 54)\n",
      "Exception: normal_lpdf: Scale parameter is 0, but must be positive! (in '/home/DA_project/wind_speed_fit.stan', line 21, column 2 to column 54)\n",
      "\tException: normal_lpdf: Scale parameter is 0, but must be positive! (in '/home/DA_project/wind_speed_fit.stan', line 21, column 2 to column 54)\n",
      "Consider re-running with show_console=True if the above output is unclear!\n"
     ]
    },
    {
     "name": "stdout",
     "output_type": "stream",
     "text": [
      "\n",
      "                           Mean      MCSE    StdDev          5%         50%  \\\n",
      "lp__                -929.307000  0.078870  1.119030 -931.594000 -929.043000   \n",
      "alpha                 20.553400  0.041411  0.336413   20.030100   20.573900   \n",
      "beta                  -0.257684  0.003344  0.054279   -0.348352   -0.256685   \n",
      "sigma                  8.166610  0.013567  0.295654    7.704150    8.163250   \n",
      "wind_speed_hat[1]     20.037800  0.380637  8.622190    7.204530   20.059600   \n",
      "...                         ...       ...       ...         ...         ...   \n",
      "wind_speed_hat[357]   19.664500  0.406109  8.637260    3.793130   19.807600   \n",
      "wind_speed_hat[358]   18.793200  0.356874  7.647270    6.723420   18.524700   \n",
      "wind_speed_hat[359]   21.369200  0.418194  8.293010    7.480730   21.101800   \n",
      "wind_speed_hat[360]   21.221500  0.420785  8.423740    6.524130   21.201200   \n",
      "wind_speed_hat[361]   20.639300  0.439378  8.358780    7.196340   20.572900   \n",
      "\n",
      "                            95%     N_Eff   N_Eff/s     R_hat  \n",
      "lp__                -928.073000  201.3100  1469.420  0.999396  \n",
      "alpha                 21.082900   65.9953   481.717  1.080130  \n",
      "beta                  -0.176536  263.4330  1922.870  0.996146  \n",
      "sigma                  8.680220  474.9090  3466.490  0.992876  \n",
      "wind_speed_hat[1]     34.746200  513.1130  3745.350  0.998962  \n",
      "...                         ...       ...       ...       ...  \n",
      "wind_speed_hat[357]   33.709200  452.3420  3301.770  0.995870  \n",
      "wind_speed_hat[358]   32.714600  459.1810  3351.690  1.001430  \n",
      "wind_speed_hat[359]   34.240300  393.2500  2870.440  0.996694  \n",
      "wind_speed_hat[360]   34.008700  400.7650  2925.290  1.003650  \n",
      "wind_speed_hat[361]   34.108800  361.9170  2641.730  0.999289  \n",
      "\n",
      "[365 rows x 9 columns]\n"
     ]
    }
   ],
   "source": [
    "data = {\n",
    "    'N': len(pressure),\n",
    "    'pressure': pressure,\n",
    "    'wind_speed': windspeed\n",
    "}\n",
    "\n",
    "fit = wind_speed_fit.sample(data=data, iter_warmup=100, iter_sampling=100, seed=6072023)\n",
    "\n",
    "print(fit.summary())"
   ]
  },
  {
   "cell_type": "code",
   "execution_count": 28,
   "metadata": {},
   "outputs": [],
   "source": [
    "wind_fit_data = fit.draws_pd()"
   ]
  },
  {
   "cell_type": "code",
   "execution_count": 29,
   "metadata": {},
   "outputs": [
    {
     "data": {
      "text/html": [
       "<div>\n",
       "<style scoped>\n",
       "    .dataframe tbody tr th:only-of-type {\n",
       "        vertical-align: middle;\n",
       "    }\n",
       "\n",
       "    .dataframe tbody tr th {\n",
       "        vertical-align: top;\n",
       "    }\n",
       "\n",
       "    .dataframe thead th {\n",
       "        text-align: right;\n",
       "    }\n",
       "</style>\n",
       "<table border=\"1\" class=\"dataframe\">\n",
       "  <thead>\n",
       "    <tr style=\"text-align: right;\">\n",
       "      <th></th>\n",
       "      <th>windspeed</th>\n",
       "    </tr>\n",
       "  </thead>\n",
       "  <tbody>\n",
       "    <tr>\n",
       "      <th>0</th>\n",
       "      <td>22.8942</td>\n",
       "    </tr>\n",
       "    <tr>\n",
       "      <th>1</th>\n",
       "      <td>21.9897</td>\n",
       "    </tr>\n",
       "    <tr>\n",
       "      <th>2</th>\n",
       "      <td>32.9990</td>\n",
       "    </tr>\n",
       "    <tr>\n",
       "      <th>3</th>\n",
       "      <td>13.0050</td>\n",
       "    </tr>\n",
       "    <tr>\n",
       "      <th>4</th>\n",
       "      <td>27.8444</td>\n",
       "    </tr>\n",
       "  </tbody>\n",
       "</table>\n",
       "</div>"
      ],
      "text/plain": [
       "   windspeed\n",
       "0    22.8942\n",
       "1    21.9897\n",
       "2    32.9990\n",
       "3    13.0050\n",
       "4    27.8444"
      ]
     },
     "execution_count": 29,
     "metadata": {},
     "output_type": "execute_result"
    }
   ],
   "source": [
    "wind_fit_df = pd.DataFrame(wind_fit_data.loc[:, 'wind_speed_hat[1]':f'wind_speed_hat[{len(pressure)}]'].values.flatten())\n",
    "wind_fit_df.columns = [\"windspeed\"]\n",
    "wind_fit_df.head()"
   ]
  },
  {
   "cell_type": "code",
   "execution_count": 30,
   "metadata": {},
   "outputs": [
    {
     "data": {
      "image/png": "[encoded data removed]",
      "text/plain": [
       "<Figure size 432x288 with 1 Axes>"
      ]
     },
     "metadata": {
      "needs_background": "light"
     },
     "output_type": "display_data"
    }
   ],
   "source": [
    "wind_fit_df.windspeed.plot.kde(label='from fit')\n",
    "smog_relation.windspeed.plot.kde(label='from data')\n",
    "plt.xlim(-30, 60)\n",
    "plt.legend()\n",
    "plt.title(\"Wind speed KDEs\")\n",
    "plt.show()"
   ]
  },
  {
   "cell_type": "markdown",
   "metadata": {},
   "source": [
    "## Smog model"
   ]
  },
  {
   "cell_type": "code",
   "execution_count": 31,
   "metadata": {},
   "outputs": [
    {
     "data": {
      "text/plain": [
       "Index(['temp', 'humidity', 'windspeed', 'winddir', 'precipprob',\n",
       "       'sealevelpressure', 'heating sezon', 'weekend', 'smog Złoty Róg',\n",
       "       'smog Bulwarowa', 'smog Swoszowice', 'pressure_diff'],\n",
       "      dtype='object')"
      ]
     },
     "execution_count": 31,
     "metadata": {},
     "output_type": "execute_result"
    }
   ],
   "source": [
    "smog_relation.columns"
   ]
  },
  {
   "cell_type": "code",
   "execution_count": 32,
   "metadata": {},
   "outputs": [
    {
     "data": {
      "text/html": [
       "<div>\n",
       "<style scoped>\n",
       "    .dataframe tbody tr th:only-of-type {\n",
       "        vertical-align: middle;\n",
       "    }\n",
       "\n",
       "    .dataframe tbody tr th {\n",
       "        vertical-align: top;\n",
       "    }\n",
       "\n",
       "    .dataframe thead th {\n",
       "        text-align: right;\n",
       "    }\n",
       "</style>\n",
       "<table border=\"1\" class=\"dataframe\">\n",
       "  <thead>\n",
       "    <tr style=\"text-align: right;\">\n",
       "      <th></th>\n",
       "      <th>smog Złoty Róg</th>\n",
       "      <th>smog Bulwarowa</th>\n",
       "      <th>smog Swoszowice</th>\n",
       "    </tr>\n",
       "    <tr>\n",
       "      <th>datetime</th>\n",
       "      <th></th>\n",
       "      <th></th>\n",
       "      <th></th>\n",
       "    </tr>\n",
       "  </thead>\n",
       "  <tbody>\n",
       "    <tr>\n",
       "      <th>2022-01-02</th>\n",
       "      <td>24.9</td>\n",
       "      <td>21.5</td>\n",
       "      <td>16.9</td>\n",
       "    </tr>\n",
       "    <tr>\n",
       "      <th>2022-01-03</th>\n",
       "      <td>11.7</td>\n",
       "      <td>12.5</td>\n",
       "      <td>10.0</td>\n",
       "    </tr>\n",
       "    <tr>\n",
       "      <th>2022-01-04</th>\n",
       "      <td>7.5</td>\n",
       "      <td>10.4</td>\n",
       "      <td>6.4</td>\n",
       "    </tr>\n",
       "    <tr>\n",
       "      <th>2022-01-05</th>\n",
       "      <td>10.3</td>\n",
       "      <td>12.2</td>\n",
       "      <td>9.8</td>\n",
       "    </tr>\n",
       "    <tr>\n",
       "      <th>2022-01-06</th>\n",
       "      <td>7.3</td>\n",
       "      <td>7.3</td>\n",
       "      <td>6.5</td>\n",
       "    </tr>\n",
       "  </tbody>\n",
       "</table>\n",
       "</div>"
      ],
      "text/plain": [
       "            smog Złoty Róg  smog Bulwarowa  smog Swoszowice\n",
       "datetime                                                   \n",
       "2022-01-02            24.9            21.5             16.9\n",
       "2022-01-03            11.7            12.5             10.0\n",
       "2022-01-04             7.5            10.4              6.4\n",
       "2022-01-05            10.3            12.2              9.8\n",
       "2022-01-06             7.3             7.3              6.5"
      ]
     },
     "execution_count": 32,
     "metadata": {},
     "output_type": "execute_result"
    }
   ],
   "source": [
    "smog_data = smog_relation[[c for c in smog_relation.columns if 'smog' in c.lower()]]\n",
    "smog_data.head()"
   ]
  },
  {
   "cell_type": "code",
   "execution_count": 33,
   "metadata": {},
   "outputs": [
    {
     "data": {
      "text/html": [
       "<div>\n",
       "<style scoped>\n",
       "    .dataframe tbody tr th:only-of-type {\n",
       "        vertical-align: middle;\n",
       "    }\n",
       "\n",
       "    .dataframe tbody tr th {\n",
       "        vertical-align: top;\n",
       "    }\n",
       "\n",
       "    .dataframe thead th {\n",
       "        text-align: right;\n",
       "    }\n",
       "</style>\n",
       "<table border=\"1\" class=\"dataframe\">\n",
       "  <thead>\n",
       "    <tr style=\"text-align: right;\">\n",
       "      <th></th>\n",
       "      <th>smog Złoty Róg</th>\n",
       "      <th>smog Bulwarowa</th>\n",
       "      <th>smog Swoszowice</th>\n",
       "    </tr>\n",
       "  </thead>\n",
       "  <tbody>\n",
       "    <tr>\n",
       "      <th>count</th>\n",
       "      <td>361.000000</td>\n",
       "      <td>361.000000</td>\n",
       "      <td>361.000000</td>\n",
       "    </tr>\n",
       "    <tr>\n",
       "      <th>mean</th>\n",
       "      <td>27.654294</td>\n",
       "      <td>30.655956</td>\n",
       "      <td>24.435457</td>\n",
       "    </tr>\n",
       "    <tr>\n",
       "      <th>std</th>\n",
       "      <td>14.614040</td>\n",
       "      <td>17.154645</td>\n",
       "      <td>13.831978</td>\n",
       "    </tr>\n",
       "    <tr>\n",
       "      <th>min</th>\n",
       "      <td>6.200000</td>\n",
       "      <td>5.500000</td>\n",
       "      <td>5.300000</td>\n",
       "    </tr>\n",
       "    <tr>\n",
       "      <th>25%</th>\n",
       "      <td>17.400000</td>\n",
       "      <td>18.400000</td>\n",
       "      <td>15.000000</td>\n",
       "    </tr>\n",
       "    <tr>\n",
       "      <th>50%</th>\n",
       "      <td>23.800000</td>\n",
       "      <td>25.500000</td>\n",
       "      <td>20.500000</td>\n",
       "    </tr>\n",
       "    <tr>\n",
       "      <th>75%</th>\n",
       "      <td>34.700000</td>\n",
       "      <td>37.200000</td>\n",
       "      <td>30.700000</td>\n",
       "    </tr>\n",
       "    <tr>\n",
       "      <th>max</th>\n",
       "      <td>88.500000</td>\n",
       "      <td>92.200000</td>\n",
       "      <td>100.300000</td>\n",
       "    </tr>\n",
       "  </tbody>\n",
       "</table>\n",
       "</div>"
      ],
      "text/plain": [
       "       smog Złoty Róg  smog Bulwarowa  smog Swoszowice\n",
       "count      361.000000      361.000000       361.000000\n",
       "mean        27.654294       30.655956        24.435457\n",
       "std         14.614040       17.154645        13.831978\n",
       "min          6.200000        5.500000         5.300000\n",
       "25%         17.400000       18.400000        15.000000\n",
       "50%         23.800000       25.500000        20.500000\n",
       "75%         34.700000       37.200000        30.700000\n",
       "max         88.500000       92.200000       100.300000"
      ]
     },
     "execution_count": 33,
     "metadata": {},
     "output_type": "execute_result"
    }
   ],
   "source": [
    "smog_data.describe()"
   ]
  },
  {
   "cell_type": "code",
   "execution_count": 34,
   "metadata": {},
   "outputs": [],
   "source": [
    "df = smog_relation[[\"temp\", \"windspeed\", \"precipprob\", \"heating sezon\", \"weekend\",  \"smog Bulwarowa\"]]\n"
   ]
  },
  {
   "cell_type": "code",
   "execution_count": 35,
   "metadata": {},
   "outputs": [
    {
     "data": {
      "text/plain": [
       "<Axes: xlabel='precipprob', ylabel='smog Bulwarowa'>"
      ]
     },
     "execution_count": 35,
     "metadata": {},
     "output_type": "execute_result"
    },
    {
     "data": {
      "image/png": "[encoded data removed]",
      "text/plain": [
       "<Figure size 432x288 with 1 Axes>"
      ]
     },
     "metadata": {
      "needs_background": "light"
     },
     "output_type": "display_data"
    }
   ],
   "source": [
    "sns.barplot(data=df, x=\"precipprob\", y=\"smog Bulwarowa\")"
   ]
  },
  {
   "cell_type": "code",
   "execution_count": 36,
   "metadata": {},
   "outputs": [
    {
     "data": {
      "text/plain": [
       "-11.864557937508753"
      ]
     },
     "execution_count": 36,
     "metadata": {},
     "output_type": "execute_result"
    }
   ],
   "source": [
    "precip_influence = df[df.precipprob == 1][\"smog Bulwarowa\"].mean() - df[df.precipprob == 0][\"smog Bulwarowa\"].mean()\n",
    "precip_influence"
   ]
  },
  {
   "cell_type": "code",
   "execution_count": 37,
   "metadata": {},
   "outputs": [
    {
     "data": {
      "text/plain": [
       "<Axes: xlabel='heating sezon', ylabel='smog Bulwarowa'>"
      ]
     },
     "execution_count": 37,
     "metadata": {},
     "output_type": "execute_result"
    },
    {
     "data": {
      "image/png": "[encoded data removed]",
      "text/plain": [
       "<Figure size 432x288 with 1 Axes>"
      ]
     },
     "metadata": {
      "needs_background": "light"
     },
     "output_type": "display_data"
    }
   ],
   "source": [
    "sns.barplot(data=df, x=\"heating sezon\", y=\"smog Bulwarowa\")"
   ]
  },
  {
   "cell_type": "code",
   "execution_count": 38,
   "metadata": {},
   "outputs": [
    {
     "data": {
      "text/plain": [
       "12.73185620915033"
      ]
     },
     "execution_count": 38,
     "metadata": {},
     "output_type": "execute_result"
    }
   ],
   "source": [
    "sezon_influence = df[df[\"heating sezon\"] == 1][\"smog Bulwarowa\"].mean() - df[df[\"heating sezon\"] == 0][\"smog Bulwarowa\"].mean()\n",
    "sezon_influence"
   ]
  },
  {
   "cell_type": "code",
   "execution_count": 39,
   "metadata": {},
   "outputs": [
    {
     "data": {
      "text/plain": [
       "<Axes: xlabel='weekend', ylabel='smog Bulwarowa'>"
      ]
     },
     "execution_count": 39,
     "metadata": {},
     "output_type": "execute_result"
    },
    {
     "data": {
      "image/png": "[encoded data removed]",
      "text/plain": [
       "<Figure size 432x288 with 1 Axes>"
      ]
     },
     "metadata": {
      "needs_background": "light"
     },
     "output_type": "display_data"
    }
   ],
   "source": [
    "sns.barplot(data=df, x=\"weekend\", y=\"smog Bulwarowa\")"
   ]
  },
  {
   "cell_type": "code",
   "execution_count": 40,
   "metadata": {},
   "outputs": [
    {
     "data": {
      "text/plain": [
       "-1.278590988299726"
      ]
     },
     "execution_count": 40,
     "metadata": {},
     "output_type": "execute_result"
    }
   ],
   "source": [
    "weekend_influence = df[df[\"weekend\"] == 1][\"smog Bulwarowa\"].mean() - df[df[\"weekend\"] == 0][\"smog Bulwarowa\"].mean()\n",
    "weekend_influence"
   ]
  },
  {
   "cell_type": "code",
   "execution_count": 41,
   "metadata": {},
   "outputs": [
    {
     "data": {
      "text/plain": [
       "weekend\n",
       "0    0.855956\n",
       "1    0.144044\n",
       "Name: proportion, dtype: float64"
      ]
     },
     "execution_count": 41,
     "metadata": {},
     "output_type": "execute_result"
    }
   ],
   "source": [
    "df[\"weekend\"].value_counts(normalize=True)"
   ]
  },
  {
   "cell_type": "code",
   "execution_count": 42,
   "metadata": {},
   "outputs": [
    {
     "name": "stdout",
     "output_type": "stream",
     "text": [
      "Overwriting smog_ppc.stan\n"
     ]
    }
   ],
   "source": [
    "%%writefile smog_ppc.stan\n",
    "\n",
    "generated quantities {\n",
    "  real alpha = normal_rng(30, 2);\n",
    "  real beta_temp = normal_rng(0, 1);\n",
    "  real beta_ws = normal_rng(0, 1);\n",
    "  real d_pp = normal_rng(-12, 1);\n",
    "  real d_hs = normal_rng(13, 1);\n",
    "  real d_wn = normal_rng(-1, 2);\n",
    "  real<lower=0> sigma = normal_rng(15, 1);\n",
    "    \n",
    "  real windspeed = normal_rng(20, 10);\n",
    "  int<lower=0, upper=1> precipprob = bernoulli_rng(0.67);\n",
    "  int<lower=0, upper=1> heating_sezon = bernoulli_rng(0.62);\n",
    "  int<lower=0, upper=1> weekend = bernoulli_rng(0.14);\n",
    "  \n",
    "  real temp = normal_rng(10, 8);\n",
    "  \n",
    "  real mean = alpha + beta_temp * temp + beta_ws * windspeed + d_pp * precipprob + d_hs * heating_sezon + d_wn * weekend;\n",
    "  real smog = normal_rng(mean, sigma);\n",
    "}"
   ]
  },
  {
   "cell_type": "code",
   "execution_count": 43,
   "metadata": {},
   "outputs": [
    {
     "name": "stderr",
     "output_type": "stream",
     "text": [
      "18:56:26 - cmdstanpy - INFO - compiling stan file /home/DA_project/smog_ppc.stan to exe file /home/DA_project/smog_ppc\n",
      "18:56:39 - cmdstanpy - INFO - compiled model executable: /home/DA_project/smog_ppc\n"
     ]
    }
   ],
   "source": [
    "smog_ppc = CmdStanModel(stan_file='./smog_ppc.stan')"
   ]
  },
  {
   "cell_type": "code",
   "execution_count": 44,
   "metadata": {},
   "outputs": [
    {
     "name": "stderr",
     "output_type": "stream",
     "text": [
      "18:56:39 - cmdstanpy - INFO - CmdStan start processing\n"
     ]
    },
    {
     "data": {
      "application/json": {
       "ascii": false,
       "bar_format": "{desc} |{bar}| {elapsed} {postfix[0][value]}",
       "colour": null,
       "elapsed": 0.0051305294036865234,
       "initial": 0,
       "n": 0,
       "ncols": null,
       "nrows": null,
       "postfix": [
        {
         "value": "Status"
        }
       ],
       "prefix": "chain 1",
       "rate": null,
       "total": 22,
       "unit": "it",
       "unit_divisor": 1000,
       "unit_scale": false
      },
      "application/vnd.jupyter.widget-view+json": {
       "model_id": "742deb5330df47fc8b9fe9fc7f9c4d31",
       "version_major": 2,
       "version_minor": 0
      },
      "text/plain": [
       "chain 1 |          | 00:00 Status"
      ]
     },
     "metadata": {},
     "output_type": "display_data"
    },
    {
     "data": {
      "application/json": {
       "ascii": false,
       "bar_format": "{desc} |{bar}| {elapsed} {postfix[0][value]}",
       "colour": null,
       "elapsed": 0.0050928592681884766,
       "initial": 0,
       "n": 0,
       "ncols": null,
       "nrows": null,
       "postfix": [
        {
         "value": "Status"
        }
       ],
       "prefix": "chain 2",
       "rate": null,
       "total": 22,
       "unit": "it",
       "unit_divisor": 1000,
       "unit_scale": false
      },
      "application/vnd.jupyter.widget-view+json": {
       "model_id": "0d632e0001df4d8284bf810e71591974",
       "version_major": 2,
       "version_minor": 0
      },
      "text/plain": [
       "chain 2 |          | 00:00 Status"
      ]
     },
     "metadata": {},
     "output_type": "display_data"
    },
    {
     "data": {
      "application/json": {
       "ascii": false,
       "bar_format": "{desc} |{bar}| {elapsed} {postfix[0][value]}",
       "colour": null,
       "elapsed": 0.004243373870849609,
       "initial": 0,
       "n": 0,
       "ncols": null,
       "nrows": null,
       "postfix": [
        {
         "value": "Status"
        }
       ],
       "prefix": "chain 3",
       "rate": null,
       "total": 22,
       "unit": "it",
       "unit_divisor": 1000,
       "unit_scale": false
      },
      "application/vnd.jupyter.widget-view+json": {
       "model_id": "93db06ac45f649d688232dc2163dffb0",
       "version_major": 2,
       "version_minor": 0
      },
      "text/plain": [
       "chain 3 |          | 00:00 Status"
      ]
     },
     "metadata": {},
     "output_type": "display_data"
    },
    {
     "data": {
      "application/json": {
       "ascii": false,
       "bar_format": "{desc} |{bar}| {elapsed} {postfix[0][value]}",
       "colour": null,
       "elapsed": 0.006112575531005859,
       "initial": 0,
       "n": 0,
       "ncols": null,
       "nrows": null,
       "postfix": [
        {
         "value": "Status"
        }
       ],
       "prefix": "chain 4",
       "rate": null,
       "total": 22,
       "unit": "it",
       "unit_divisor": 1000,
       "unit_scale": false
      },
      "application/vnd.jupyter.widget-view+json": {
       "model_id": "ee4a34ab31d44fe4a7f97f59cd374fdc",
       "version_major": 2,
       "version_minor": 0
      },
      "text/plain": [
       "chain 4 |          | 00:00 Status"
      ]
     },
     "metadata": {},
     "output_type": "display_data"
    },
    {
     "name": "stdout",
     "output_type": "stream",
     "text": [
      "                                                                                                                                                                                                                                                                                                                                "
     ]
    },
    {
     "name": "stderr",
     "output_type": "stream",
     "text": [
      "18:56:39 - cmdstanpy - INFO - CmdStan done processing.\n"
     ]
    },
    {
     "name": "stdout",
     "output_type": "stream",
     "text": [
      "\n"
     ]
    },
    {
     "data": {
      "text/html": [
       "<div>\n",
       "<style scoped>\n",
       "    .dataframe tbody tr th:only-of-type {\n",
       "        vertical-align: middle;\n",
       "    }\n",
       "\n",
       "    .dataframe tbody tr th {\n",
       "        vertical-align: top;\n",
       "    }\n",
       "\n",
       "    .dataframe thead th {\n",
       "        text-align: right;\n",
       "    }\n",
       "</style>\n",
       "<table border=\"1\" class=\"dataframe\">\n",
       "  <thead>\n",
       "    <tr style=\"text-align: right;\">\n",
       "      <th></th>\n",
       "      <th>Mean</th>\n",
       "      <th>MCSE</th>\n",
       "      <th>StdDev</th>\n",
       "      <th>5%</th>\n",
       "      <th>50%</th>\n",
       "      <th>95%</th>\n",
       "      <th>N_Eff</th>\n",
       "      <th>N_Eff/s</th>\n",
       "      <th>R_hat</th>\n",
       "    </tr>\n",
       "  </thead>\n",
       "  <tbody>\n",
       "    <tr>\n",
       "      <th>alpha</th>\n",
       "      <td>29.995600</td>\n",
       "      <td>0.032455</td>\n",
       "      <td>2.025890</td>\n",
       "      <td>26.68750</td>\n",
       "      <td>29.963200</td>\n",
       "      <td>33.39220</td>\n",
       "      <td>3896.41</td>\n",
       "      <td>149862.0</td>\n",
       "      <td>0.999329</td>\n",
       "    </tr>\n",
       "    <tr>\n",
       "      <th>beta_temp</th>\n",
       "      <td>0.001495</td>\n",
       "      <td>0.015547</td>\n",
       "      <td>0.982239</td>\n",
       "      <td>-1.63387</td>\n",
       "      <td>-0.018214</td>\n",
       "      <td>1.62199</td>\n",
       "      <td>3991.52</td>\n",
       "      <td>153520.0</td>\n",
       "      <td>0.999205</td>\n",
       "    </tr>\n",
       "    <tr>\n",
       "      <th>beta_ws</th>\n",
       "      <td>0.004984</td>\n",
       "      <td>0.016033</td>\n",
       "      <td>1.004250</td>\n",
       "      <td>-1.62672</td>\n",
       "      <td>0.004823</td>\n",
       "      <td>1.68936</td>\n",
       "      <td>3923.25</td>\n",
       "      <td>150894.0</td>\n",
       "      <td>1.000590</td>\n",
       "    </tr>\n",
       "    <tr>\n",
       "      <th>d_pp</th>\n",
       "      <td>-11.976600</td>\n",
       "      <td>0.016318</td>\n",
       "      <td>1.017600</td>\n",
       "      <td>-13.67470</td>\n",
       "      <td>-11.969700</td>\n",
       "      <td>-10.30420</td>\n",
       "      <td>3888.74</td>\n",
       "      <td>149567.0</td>\n",
       "      <td>0.999618</td>\n",
       "    </tr>\n",
       "    <tr>\n",
       "      <th>d_hs</th>\n",
       "      <td>13.001900</td>\n",
       "      <td>0.015678</td>\n",
       "      <td>0.989906</td>\n",
       "      <td>11.37650</td>\n",
       "      <td>12.982700</td>\n",
       "      <td>14.64770</td>\n",
       "      <td>3986.61</td>\n",
       "      <td>153331.0</td>\n",
       "      <td>0.999406</td>\n",
       "    </tr>\n",
       "    <tr>\n",
       "      <th>d_wn</th>\n",
       "      <td>-0.993808</td>\n",
       "      <td>0.031182</td>\n",
       "      <td>1.978750</td>\n",
       "      <td>-4.18639</td>\n",
       "      <td>-1.022110</td>\n",
       "      <td>2.25446</td>\n",
       "      <td>4026.93</td>\n",
       "      <td>154882.0</td>\n",
       "      <td>0.999241</td>\n",
       "    </tr>\n",
       "    <tr>\n",
       "      <th>sigma</th>\n",
       "      <td>15.018600</td>\n",
       "      <td>0.015827</td>\n",
       "      <td>0.989930</td>\n",
       "      <td>13.37670</td>\n",
       "      <td>15.033900</td>\n",
       "      <td>16.64680</td>\n",
       "      <td>3912.32</td>\n",
       "      <td>150474.0</td>\n",
       "      <td>0.999864</td>\n",
       "    </tr>\n",
       "    <tr>\n",
       "      <th>windspeed</th>\n",
       "      <td>19.998300</td>\n",
       "      <td>0.162769</td>\n",
       "      <td>10.176300</td>\n",
       "      <td>3.40939</td>\n",
       "      <td>19.949500</td>\n",
       "      <td>36.57630</td>\n",
       "      <td>3908.77</td>\n",
       "      <td>150337.0</td>\n",
       "      <td>0.999528</td>\n",
       "    </tr>\n",
       "    <tr>\n",
       "      <th>precipprob</th>\n",
       "      <td>0.662250</td>\n",
       "      <td>0.007810</td>\n",
       "      <td>0.473002</td>\n",
       "      <td>0.00000</td>\n",
       "      <td>1.000000</td>\n",
       "      <td>1.00000</td>\n",
       "      <td>3668.35</td>\n",
       "      <td>141090.0</td>\n",
       "      <td>0.999967</td>\n",
       "    </tr>\n",
       "    <tr>\n",
       "      <th>heating_sezon</th>\n",
       "      <td>0.623000</td>\n",
       "      <td>0.007971</td>\n",
       "      <td>0.484696</td>\n",
       "      <td>0.00000</td>\n",
       "      <td>1.000000</td>\n",
       "      <td>1.00000</td>\n",
       "      <td>3697.75</td>\n",
       "      <td>142221.0</td>\n",
       "      <td>0.999260</td>\n",
       "    </tr>\n",
       "    <tr>\n",
       "      <th>weekend</th>\n",
       "      <td>0.148250</td>\n",
       "      <td>0.005697</td>\n",
       "      <td>0.355392</td>\n",
       "      <td>0.00000</td>\n",
       "      <td>0.000000</td>\n",
       "      <td>1.00000</td>\n",
       "      <td>3892.02</td>\n",
       "      <td>149693.0</td>\n",
       "      <td>1.000180</td>\n",
       "    </tr>\n",
       "    <tr>\n",
       "      <th>temp</th>\n",
       "      <td>10.007300</td>\n",
       "      <td>0.124163</td>\n",
       "      <td>7.951340</td>\n",
       "      <td>-2.99927</td>\n",
       "      <td>10.186600</td>\n",
       "      <td>23.07680</td>\n",
       "      <td>4101.07</td>\n",
       "      <td>157733.0</td>\n",
       "      <td>0.999616</td>\n",
       "    </tr>\n",
       "    <tr>\n",
       "      <th>mean</th>\n",
       "      <td>30.208900</td>\n",
       "      <td>0.420742</td>\n",
       "      <td>26.881400</td>\n",
       "      <td>-14.68720</td>\n",
       "      <td>30.243800</td>\n",
       "      <td>74.63200</td>\n",
       "      <td>4082.00</td>\n",
       "      <td>157000.0</td>\n",
       "      <td>1.000740</td>\n",
       "    </tr>\n",
       "    <tr>\n",
       "      <th>smog</th>\n",
       "      <td>29.877700</td>\n",
       "      <td>0.490272</td>\n",
       "      <td>30.783100</td>\n",
       "      <td>-20.45890</td>\n",
       "      <td>29.560600</td>\n",
       "      <td>80.42750</td>\n",
       "      <td>3942.29</td>\n",
       "      <td>151627.0</td>\n",
       "      <td>1.001050</td>\n",
       "    </tr>\n",
       "  </tbody>\n",
       "</table>\n",
       "</div>"
      ],
      "text/plain": [
       "                    Mean      MCSE     StdDev        5%        50%       95%  \\\n",
       "alpha          29.995600  0.032455   2.025890  26.68750  29.963200  33.39220   \n",
       "beta_temp       0.001495  0.015547   0.982239  -1.63387  -0.018214   1.62199   \n",
       "beta_ws         0.004984  0.016033   1.004250  -1.62672   0.004823   1.68936   \n",
       "d_pp          -11.976600  0.016318   1.017600 -13.67470 -11.969700 -10.30420   \n",
       "d_hs           13.001900  0.015678   0.989906  11.37650  12.982700  14.64770   \n",
       "d_wn           -0.993808  0.031182   1.978750  -4.18639  -1.022110   2.25446   \n",
       "sigma          15.018600  0.015827   0.989930  13.37670  15.033900  16.64680   \n",
       "windspeed      19.998300  0.162769  10.176300   3.40939  19.949500  36.57630   \n",
       "precipprob      0.662250  0.007810   0.473002   0.00000   1.000000   1.00000   \n",
       "heating_sezon   0.623000  0.007971   0.484696   0.00000   1.000000   1.00000   \n",
       "weekend         0.148250  0.005697   0.355392   0.00000   0.000000   1.00000   \n",
       "temp           10.007300  0.124163   7.951340  -2.99927  10.186600  23.07680   \n",
       "mean           30.208900  0.420742  26.881400 -14.68720  30.243800  74.63200   \n",
       "smog           29.877700  0.490272  30.783100 -20.45890  29.560600  80.42750   \n",
       "\n",
       "                 N_Eff   N_Eff/s     R_hat  \n",
       "alpha          3896.41  149862.0  0.999329  \n",
       "beta_temp      3991.52  153520.0  0.999205  \n",
       "beta_ws        3923.25  150894.0  1.000590  \n",
       "d_pp           3888.74  149567.0  0.999618  \n",
       "d_hs           3986.61  153331.0  0.999406  \n",
       "d_wn           4026.93  154882.0  0.999241  \n",
       "sigma          3912.32  150474.0  0.999864  \n",
       "windspeed      3908.77  150337.0  0.999528  \n",
       "precipprob     3668.35  141090.0  0.999967  \n",
       "heating_sezon  3697.75  142221.0  0.999260  \n",
       "weekend        3892.02  149693.0  1.000180  \n",
       "temp           4101.07  157733.0  0.999616  \n",
       "mean           4082.00  157000.0  1.000740  \n",
       "smog           3942.29  151627.0  1.001050  "
      ]
     },
     "execution_count": 44,
     "metadata": {},
     "output_type": "execute_result"
    }
   ],
   "source": [
    "smog_ppc_samples = smog_ppc.sample(iter_warmup=1000, iter_sampling=1000, seed=6072023)\n",
    "smog_ppc_samples.summary()"
   ]
  },
  {
   "cell_type": "code",
   "execution_count": 45,
   "metadata": {},
   "outputs": [
    {
     "data": {
      "image/png": "[encoded data removed]",
      "text/plain": [
       "<Figure size 432x288 with 1 Axes>"
      ]
     },
     "metadata": {
      "needs_background": "light"
     },
     "output_type": "display_data"
    }
   ],
   "source": [
    "smog_ppc_samples.draws_pd().smog.plot.kde(label='from ppc')\n",
    "smog_relation[\"smog Bulwarowa\"].plot.kde(label='from data')\n",
    "plt.xlim(-10, 120)\n",
    "plt.legend()\n",
    "plt.title(\"Smog KDEs\")\n",
    "plt.show()"
   ]
  },
  {
   "cell_type": "code",
   "execution_count": 46,
   "metadata": {},
   "outputs": [
    {
     "name": "stdout",
     "output_type": "stream",
     "text": [
      "Overwriting smog_fit.stan\n"
     ]
    }
   ],
   "source": [
    "%%writefile smog_fit.stan\n",
    "\n",
    "data {\n",
    "  int<lower=0> N;  \n",
    "  vector[N] precipprob;  \n",
    "  vector[N] wind_speed;\n",
    "  vector[N] heating_sezon;\n",
    "  vector[N] weekend;\n",
    "  vector[N] temp;\n",
    "  vector[N] smog;\n",
    "}\n",
    "\n",
    "parameters {\n",
    "  real alpha;\n",
    "  real beta_temp;\n",
    "  real beta_ws;\n",
    "  real d_pp;\n",
    "  real d_hs;\n",
    "  real d_wn;\n",
    "  real<lower=0> sigma;\n",
    "}\n",
    "\n",
    "transformed parameters {\n",
    "    vector[N] mu;\n",
    "    mu = alpha + beta_temp * temp + beta_ws * wind_speed + d_pp * precipprob + d_hs * heating_sezon + d_wn * weekend;\n",
    "}\n",
    "\n",
    "model {\n",
    "  // Priors\n",
    "  alpha ~ normal(30, 2);\n",
    "  beta_temp ~ normal(0, 1);\n",
    "  beta_ws ~ normal(0, 1);\n",
    "  d_pp ~ normal(-12, 1);\n",
    "  d_hs ~ normal(13, 1);\n",
    "  d_wn ~ normal(-1, 2);\n",
    "  sigma ~ normal(15, 1);\n",
    "\n",
    "  // Likelihood\n",
    "  smog ~ normal(mu, sigma);\n",
    "}\n",
    "\n",
    "generated quantities {\n",
    "    vector[N] smog_hat;\n",
    "    vector[N] log_lik;\n",
    "    for (j in 1:N) {\n",
    "        smog_hat[j] = normal_rng(mu[j], sigma);\n",
    "        log_lik[j] = normal_lpdf(smog[j]|mu[j],sigma);\n",
    "    }\n",
    "}"
   ]
  },
  {
   "cell_type": "code",
   "execution_count": 47,
   "metadata": {},
   "outputs": [
    {
     "name": "stdout",
     "output_type": "stream",
     "text": [
      "Overwriting smog_fit_s.stan\n"
     ]
    }
   ],
   "source": [
    "%%writefile smog_fit_s.stan\n",
    "\n",
    "data {\n",
    "  int<lower=0> N;  \n",
    "  vector[N] precipprob;  \n",
    "  vector[N] wind_speed;\n",
    "  vector[N] heating_sezon;\n",
    "  vector[N] weekend;\n",
    "  vector[N] temp;\n",
    "  vector[N] smog;\n",
    "}\n",
    "\n",
    "parameters {\n",
    "  real alpha;\n",
    "  real beta_temp;\n",
    "  real beta_ws;\n",
    "  real d_pp;\n",
    "  real d_hs;\n",
    "  real d_wn;\n",
    "  real<lower=0> sigma;\n",
    "}\n",
    "\n",
    "transformed parameters {\n",
    "    vector[N] mu;\n",
    "    mu = alpha + beta_temp * temp + beta_ws * wind_speed + d_pp * precipprob + d_hs * heating_sezon + d_wn * weekend;\n",
    "}\n",
    "\n",
    "model {\n",
    "  // Priors\n",
    "  alpha ~ normal(30, 2);\n",
    "  beta_temp ~ normal(0, 1);\n",
    "  beta_ws ~ normal(0, 1);\n",
    "  d_pp ~ normal(-12, 1);\n",
    "  d_hs ~ normal(13, 1);\n",
    "  d_wn ~ normal(-1, 2);\n",
    "  sigma ~ normal(15, 1);\n",
    "\n",
    "  // Likelihood\n",
    "  smog ~ student_t(1, mu, sigma);\n",
    "}\n",
    "\n",
    "generated quantities {\n",
    "    vector[N] smog_hat;\n",
    "    vector[N] log_lik;\n",
    "    for (j in 1:N) {\n",
    "        smog_hat[j] = student_t_rng(1, mu[j], sigma);\n",
    "        log_lik[j] = student_t_lpdf(smog[j]|1, mu[j], sigma);\n",
    "    }\n",
    "}"
   ]
  },
  {
   "cell_type": "code",
   "execution_count": 48,
   "metadata": {},
   "outputs": [
    {
     "name": "stderr",
     "output_type": "stream",
     "text": [
      "18:56:40 - cmdstanpy - INFO - compiling stan file /home/DA_project/smog_fit.stan to exe file /home/DA_project/smog_fit\n",
      "18:56:55 - cmdstanpy - INFO - compiled model executable: /home/DA_project/smog_fit\n"
     ]
    }
   ],
   "source": [
    "smog_fit = CmdStanModel(stan_file='./smog_fit.stan')"
   ]
  },
  {
   "cell_type": "code",
   "execution_count": 49,
   "metadata": {},
   "outputs": [
    {
     "name": "stderr",
     "output_type": "stream",
     "text": [
      "18:56:55 - cmdstanpy - INFO - compiling stan file /home/DA_project/smog_fit_s.stan to exe file /home/DA_project/smog_fit_s\n",
      "18:57:11 - cmdstanpy - INFO - compiled model executable: /home/DA_project/smog_fit_s\n"
     ]
    }
   ],
   "source": [
    "smog_fit_s = CmdStanModel(stan_file='./smog_fit_s.stan')"
   ]
  },
  {
   "cell_type": "code",
   "execution_count": 50,
   "metadata": {},
   "outputs": [
    {
     "name": "stderr",
     "output_type": "stream",
     "text": [
      "18:57:12 - cmdstanpy - INFO - CmdStan start processing\n"
     ]
    },
    {
     "data": {
      "application/json": {
       "ascii": false,
       "bar_format": "{desc} |{bar}| {elapsed} {postfix[0][value]}",
       "colour": null,
       "elapsed": 0.004319906234741211,
       "initial": 0,
       "n": 0,
       "ncols": null,
       "nrows": null,
       "postfix": [
        {
         "value": "Status"
        }
       ],
       "prefix": "chain 1",
       "rate": null,
       "total": 4,
       "unit": "it",
       "unit_divisor": 1000,
       "unit_scale": false
      },
      "application/vnd.jupyter.widget-view+json": {
       "model_id": "e9df5ab7c61b4ccdaecf5f993608742f",
       "version_major": 2,
       "version_minor": 0
      },
      "text/plain": [
       "chain 1 |          | 00:00 Status"
      ]
     },
     "metadata": {},
     "output_type": "display_data"
    },
    {
     "data": {
      "application/json": {
       "ascii": false,
       "bar_format": "{desc} |{bar}| {elapsed} {postfix[0][value]}",
       "colour": null,
       "elapsed": 0.0044209957122802734,
       "initial": 0,
       "n": 0,
       "ncols": null,
       "nrows": null,
       "postfix": [
        {
         "value": "Status"
        }
       ],
       "prefix": "chain 2",
       "rate": null,
       "total": 4,
       "unit": "it",
       "unit_divisor": 1000,
       "unit_scale": false
      },
      "application/vnd.jupyter.widget-view+json": {
       "model_id": "ea6c3b2884024cefac073f410c2cb1ae",
       "version_major": 2,
       "version_minor": 0
      },
      "text/plain": [
       "chain 2 |          | 00:00 Status"
      ]
     },
     "metadata": {},
     "output_type": "display_data"
    },
    {
     "data": {
      "application/json": {
       "ascii": false,
       "bar_format": "{desc} |{bar}| {elapsed} {postfix[0][value]}",
       "colour": null,
       "elapsed": 0.004656076431274414,
       "initial": 0,
       "n": 0,
       "ncols": null,
       "nrows": null,
       "postfix": [
        {
         "value": "Status"
        }
       ],
       "prefix": "chain 3",
       "rate": null,
       "total": 4,
       "unit": "it",
       "unit_divisor": 1000,
       "unit_scale": false
      },
      "application/vnd.jupyter.widget-view+json": {
       "model_id": "8377f66dc1f34219aa7c48ccd0a5f641",
       "version_major": 2,
       "version_minor": 0
      },
      "text/plain": [
       "chain 3 |          | 00:00 Status"
      ]
     },
     "metadata": {},
     "output_type": "display_data"
    },
    {
     "data": {
      "application/json": {
       "ascii": false,
       "bar_format": "{desc} |{bar}| {elapsed} {postfix[0][value]}",
       "colour": null,
       "elapsed": 0.004913806915283203,
       "initial": 0,
       "n": 0,
       "ncols": null,
       "nrows": null,
       "postfix": [
        {
         "value": "Status"
        }
       ],
       "prefix": "chain 4",
       "rate": null,
       "total": 4,
       "unit": "it",
       "unit_divisor": 1000,
       "unit_scale": false
      },
      "application/vnd.jupyter.widget-view+json": {
       "model_id": "636ef12782194b74af4876fe799c3f6f",
       "version_major": 2,
       "version_minor": 0
      },
      "text/plain": [
       "chain 4 |          | 00:00 Status"
      ]
     },
     "metadata": {},
     "output_type": "display_data"
    },
    {
     "name": "stdout",
     "output_type": "stream",
     "text": [
      "                                                                                                                                                                                                                                                                                                                                "
     ]
    },
    {
     "name": "stderr",
     "output_type": "stream",
     "text": [
      "18:57:13 - cmdstanpy - INFO - CmdStan done processing.\n"
     ]
    },
    {
     "name": "stdout",
     "output_type": "stream",
     "text": [
      "\n",
      "                     Mean      MCSE    StdDev           5%          50%  \\\n",
      "lp__         -1137.790000  0.144195  1.878690 -1141.450000 -1137.600000   \n",
      "alpha           37.841400  0.125989  1.692730    35.181300    37.920000   \n",
      "beta_temp        0.030063  0.004857  0.094953    -0.127975     0.028095   \n",
      "beta_ws         -0.498734  0.004973  0.078898    -0.639061    -0.494886   \n",
      "d_pp           -10.514900  0.040585  0.823137   -11.880300   -10.495100   \n",
      "...                   ...       ...       ...          ...          ...   \n",
      "log_lik[357]    -3.747890  0.004285  0.073615    -3.881030    -3.743060   \n",
      "log_lik[358]    -3.609570  0.001718  0.033379    -3.668080    -3.608840   \n",
      "log_lik[359]    -3.589920  0.001649  0.032676    -3.646710    -3.588770   \n",
      "log_lik[360]    -4.574310  0.007335  0.119353    -4.782720    -4.574070   \n",
      "log_lik[361]    -3.592160  0.002406  0.040307    -3.661410    -3.588500   \n",
      "\n",
      "                      95%    N_Eff  N_Eff/s     R_hat  \n",
      "lp__         -1135.380000  169.749  100.029  1.029830  \n",
      "alpha           40.463200  180.512  106.371  1.028980  \n",
      "beta_temp        0.186791  382.208  225.226  1.009360  \n",
      "beta_ws         -0.370197  251.677  148.307  1.004880  \n",
      "d_pp            -9.212260  411.359  242.404  0.996417  \n",
      "...                   ...      ...      ...       ...  \n",
      "log_lik[357]    -3.637060  295.208  173.959  1.004180  \n",
      "log_lik[358]    -3.552230  377.667  222.550  1.002560  \n",
      "log_lik[359]    -3.538620  392.812  231.474  0.996046  \n",
      "log_lik[360]    -4.385310  264.784  156.030  1.011710  \n",
      "log_lik[361]    -3.534840  280.695  165.407  1.002170  \n",
      "\n",
      "[1091 rows x 9 columns]\n"
     ]
    }
   ],
   "source": [
    "data = {\n",
    "    'N': len(df),\n",
    "    'precipprob': df.precipprob.values,\n",
    "    'wind_speed': df.windspeed.values,\n",
    "    'temp': df.temp.values,\n",
    "    'weekend': df.weekend.values,\n",
    "    'heating_sezon': df['heating sezon'].values,\n",
    "    'smog': df['smog Bulwarowa'].values\n",
    "}\n",
    "\n",
    "fit = smog_fit.sample(data=data, iter_warmup=100, iter_sampling=100, seed=6072023)\n",
    "\n",
    "print(fit.summary())"
   ]
  },
  {
   "cell_type": "code",
   "execution_count": 51,
   "metadata": {},
   "outputs": [
    {
     "name": "stderr",
     "output_type": "stream",
     "text": [
      "18:57:13 - cmdstanpy - INFO - CmdStan start processing\n"
     ]
    },
    {
     "data": {
      "application/json": {
       "ascii": false,
       "bar_format": "{desc} |{bar}| {elapsed} {postfix[0][value]}",
       "colour": null,
       "elapsed": 0.007203102111816406,
       "initial": 0,
       "n": 0,
       "ncols": null,
       "nrows": null,
       "postfix": [
        {
         "value": "Status"
        }
       ],
       "prefix": "chain 1",
       "rate": null,
       "total": 4,
       "unit": "it",
       "unit_divisor": 1000,
       "unit_scale": false
      },
      "application/vnd.jupyter.widget-view+json": {
       "model_id": "1b168ce49dbd4553bddd0152aa3f9b54",
       "version_major": 2,
       "version_minor": 0
      },
      "text/plain": [
       "chain 1 |          | 00:00 Status"
      ]
     },
     "metadata": {},
     "output_type": "display_data"
    },
    {
     "data": {
      "application/json": {
       "ascii": false,
       "bar_format": "{desc} |{bar}| {elapsed} {postfix[0][value]}",
       "colour": null,
       "elapsed": 0.0044858455657958984,
       "initial": 0,
       "n": 0,
       "ncols": null,
       "nrows": null,
       "postfix": [
        {
         "value": "Status"
        }
       ],
       "prefix": "chain 2",
       "rate": null,
       "total": 4,
       "unit": "it",
       "unit_divisor": 1000,
       "unit_scale": false
      },
      "application/vnd.jupyter.widget-view+json": {
       "model_id": "c6b81c99e2984c668721bd8860d036ec",
       "version_major": 2,
       "version_minor": 0
      },
      "text/plain": [
       "chain 2 |          | 00:00 Status"
      ]
     },
     "metadata": {},
     "output_type": "display_data"
    },
    {
     "data": {
      "application/json": {
       "ascii": false,
       "bar_format": "{desc} |{bar}| {elapsed} {postfix[0][value]}",
       "colour": null,
       "elapsed": 0.007483959197998047,
       "initial": 0,
       "n": 0,
       "ncols": null,
       "nrows": null,
       "postfix": [
        {
         "value": "Status"
        }
       ],
       "prefix": "chain 3",
       "rate": null,
       "total": 4,
       "unit": "it",
       "unit_divisor": 1000,
       "unit_scale": false
      },
      "application/vnd.jupyter.widget-view+json": {
       "model_id": "00a92b66aab2463491aa25dcb27f4233",
       "version_major": 2,
       "version_minor": 0
      },
      "text/plain": [
       "chain 3 |          | 00:00 Status"
      ]
     },
     "metadata": {},
     "output_type": "display_data"
    },
    {
     "data": {
      "application/json": {
       "ascii": false,
       "bar_format": "{desc} |{bar}| {elapsed} {postfix[0][value]}",
       "colour": null,
       "elapsed": 0.010574102401733398,
       "initial": 0,
       "n": 0,
       "ncols": null,
       "nrows": null,
       "postfix": [
        {
         "value": "Status"
        }
       ],
       "prefix": "chain 4",
       "rate": null,
       "total": 4,
       "unit": "it",
       "unit_divisor": 1000,
       "unit_scale": false
      },
      "application/vnd.jupyter.widget-view+json": {
       "model_id": "21a691b462f84beab17dafb055435d3b",
       "version_major": 2,
       "version_minor": 0
      },
      "text/plain": [
       "chain 4 |          | 00:00 Status"
      ]
     },
     "metadata": {},
     "output_type": "display_data"
    },
    {
     "name": "stdout",
     "output_type": "stream",
     "text": [
      "                                                                                                                                                                                                                                                                                                                                "
     ]
    },
    {
     "name": "stderr",
     "output_type": "stream",
     "text": [
      "18:57:14 - cmdstanpy - INFO - CmdStan done processing.\n",
      "18:57:14 - cmdstanpy - WARNING - Non-fatal error during sampling:\n",
      "Exception: student_t_lpdf: Scale parameter is inf, but must be positive finite! (in '/home/DA_project/smog_fit_s.stan', line 38, column 2 to column 33)\n",
      "Exception: student_t_lpdf: Scale parameter is inf, but must be positive finite! (in '/home/DA_project/smog_fit_s.stan', line 38, column 2 to column 33)\n",
      "Exception: student_t_lpdf: Scale parameter is 0, but must be positive finite! (in '/home/DA_project/smog_fit_s.stan', line 38, column 2 to column 33)\n",
      "Exception: student_t_lpdf: Scale parameter is inf, but must be positive finite! (in '/home/DA_project/smog_fit_s.stan', line 38, column 2 to column 33)\n",
      "Consider re-running with show_console=True if the above output is unclear!\n"
     ]
    },
    {
     "name": "stdout",
     "output_type": "stream",
     "text": [
      "\n",
      "                     Mean      MCSE    StdDev           5%          50%  \\\n",
      "lp__         -1101.970000  0.160371  2.022730 -1105.750000 -1101.650000   \n",
      "alpha           34.576600  0.104122  1.516660    32.089700    34.540200   \n",
      "beta_temp        0.259296  0.004820  0.088744     0.106355     0.257022   \n",
      "beta_ws         -0.549105  0.003393  0.067967    -0.676480    -0.553295   \n",
      "d_pp            -9.769510  0.042454  0.847116   -11.150600    -9.766750   \n",
      "...                   ...       ...       ...          ...          ...   \n",
      "log_lik[357]    -3.527510  0.005835  0.127785    -3.776490    -3.508790   \n",
      "log_lik[358]    -3.340290  0.003142  0.067860    -3.450890    -3.338160   \n",
      "log_lik[359]    -3.358610  0.003199  0.068280    -3.467210    -3.358670   \n",
      "log_lik[360]    -5.405890  0.005676  0.103598    -5.566960    -5.403650   \n",
      "log_lik[361]    -3.430310  0.006311  0.107270    -3.630080    -3.415920   \n",
      "\n",
      "                      95%    N_Eff   N_Eff/s     R_hat  \n",
      "lp__         -1099.390000  159.082   63.4553  1.028140  \n",
      "alpha           37.058300  212.174   84.6327  1.000370  \n",
      "beta_temp        0.404234  338.998  135.2210  1.004260  \n",
      "beta_ws         -0.440014  401.366  160.0980  0.993969  \n",
      "d_pp            -8.313960  398.147  158.8140  0.998974  \n",
      "...                   ...      ...       ...       ...  \n",
      "log_lik[357]    -3.335180  479.630  191.3160  0.993756  \n",
      "log_lik[358]    -3.226990  466.361  186.0230  0.993598  \n",
      "log_lik[359]    -3.242580  455.674  181.7610  0.994774  \n",
      "log_lik[360]    -5.250540  333.155  132.8900  0.998642  \n",
      "log_lik[361]    -3.278110  288.947  115.2560  1.000310  \n",
      "\n",
      "[1091 rows x 9 columns]\n"
     ]
    }
   ],
   "source": [
    "data = {\n",
    "    'N': len(df),\n",
    "    'precipprob': df.precipprob.values,\n",
    "    'wind_speed': df.windspeed.values,\n",
    "    'temp': df.temp.values,\n",
    "    'weekend': df.weekend.values,\n",
    "    'heating_sezon': df['heating sezon'].values,\n",
    "    'smog': df['smog Bulwarowa'].values\n",
    "}\n",
    "\n",
    "fit_s = smog_fit_s.sample(data=data, iter_warmup=100, iter_sampling=100, seed=6072023)\n",
    "\n",
    "print(fit_s.summary())"
   ]
  },
  {
   "cell_type": "code",
   "execution_count": 52,
   "metadata": {},
   "outputs": [
    {
     "data": {
      "text/html": [
       "<div>\n",
       "<style scoped>\n",
       "    .dataframe tbody tr th:only-of-type {\n",
       "        vertical-align: middle;\n",
       "    }\n",
       "\n",
       "    .dataframe tbody tr th {\n",
       "        vertical-align: top;\n",
       "    }\n",
       "\n",
       "    .dataframe thead th {\n",
       "        text-align: right;\n",
       "    }\n",
       "</style>\n",
       "<table border=\"1\" class=\"dataframe\">\n",
       "  <thead>\n",
       "    <tr style=\"text-align: right;\">\n",
       "      <th></th>\n",
       "      <th>lp__</th>\n",
       "      <th>accept_stat__</th>\n",
       "      <th>stepsize__</th>\n",
       "      <th>treedepth__</th>\n",
       "      <th>n_leapfrog__</th>\n",
       "      <th>divergent__</th>\n",
       "      <th>energy__</th>\n",
       "      <th>alpha</th>\n",
       "      <th>beta_temp</th>\n",
       "      <th>beta_ws</th>\n",
       "      <th>...</th>\n",
       "      <th>log_lik[352]</th>\n",
       "      <th>log_lik[353]</th>\n",
       "      <th>log_lik[354]</th>\n",
       "      <th>log_lik[355]</th>\n",
       "      <th>log_lik[356]</th>\n",
       "      <th>log_lik[357]</th>\n",
       "      <th>log_lik[358]</th>\n",
       "      <th>log_lik[359]</th>\n",
       "      <th>log_lik[360]</th>\n",
       "      <th>log_lik[361]</th>\n",
       "    </tr>\n",
       "  </thead>\n",
       "  <tbody>\n",
       "    <tr>\n",
       "      <th>0</th>\n",
       "      <td>-1140.82</td>\n",
       "      <td>0.976002</td>\n",
       "      <td>0.034654</td>\n",
       "      <td>7.0</td>\n",
       "      <td>127.0</td>\n",
       "      <td>0.0</td>\n",
       "      <td>1144.39</td>\n",
       "      <td>36.8549</td>\n",
       "      <td>-0.068156</td>\n",
       "      <td>-0.266617</td>\n",
       "      <td>...</td>\n",
       "      <td>-6.22011</td>\n",
       "      <td>-3.59308</td>\n",
       "      <td>-3.61162</td>\n",
       "      <td>-3.58953</td>\n",
       "      <td>-3.67554</td>\n",
       "      <td>-3.96220</td>\n",
       "      <td>-3.61791</td>\n",
       "      <td>-3.61581</td>\n",
       "      <td>-4.75188</td>\n",
       "      <td>-3.59596</td>\n",
       "    </tr>\n",
       "    <tr>\n",
       "      <th>1</th>\n",
       "      <td>-1143.55</td>\n",
       "      <td>0.732982</td>\n",
       "      <td>0.034654</td>\n",
       "      <td>7.0</td>\n",
       "      <td>127.0</td>\n",
       "      <td>0.0</td>\n",
       "      <td>1147.67</td>\n",
       "      <td>35.0646</td>\n",
       "      <td>0.013494</td>\n",
       "      <td>-0.416022</td>\n",
       "      <td>...</td>\n",
       "      <td>-5.63858</td>\n",
       "      <td>-3.63958</td>\n",
       "      <td>-3.62354</td>\n",
       "      <td>-3.57018</td>\n",
       "      <td>-3.60955</td>\n",
       "      <td>-3.94215</td>\n",
       "      <td>-3.66744</td>\n",
       "      <td>-3.59096</td>\n",
       "      <td>-4.40845</td>\n",
       "      <td>-3.63530</td>\n",
       "    </tr>\n",
       "    <tr>\n",
       "      <th>2</th>\n",
       "      <td>-1139.32</td>\n",
       "      <td>0.911130</td>\n",
       "      <td>0.034654</td>\n",
       "      <td>6.0</td>\n",
       "      <td>63.0</td>\n",
       "      <td>0.0</td>\n",
       "      <td>1144.49</td>\n",
       "      <td>35.3397</td>\n",
       "      <td>0.199700</td>\n",
       "      <td>-0.565992</td>\n",
       "      <td>...</td>\n",
       "      <td>-5.79144</td>\n",
       "      <td>-3.59959</td>\n",
       "      <td>-3.57372</td>\n",
       "      <td>-3.57190</td>\n",
       "      <td>-3.70365</td>\n",
       "      <td>-3.68834</td>\n",
       "      <td>-3.60037</td>\n",
       "      <td>-3.57412</td>\n",
       "      <td>-4.56905</td>\n",
       "      <td>-3.58626</td>\n",
       "    </tr>\n",
       "    <tr>\n",
       "      <th>3</th>\n",
       "      <td>-1139.80</td>\n",
       "      <td>0.925477</td>\n",
       "      <td>0.034654</td>\n",
       "      <td>7.0</td>\n",
       "      <td>127.0</td>\n",
       "      <td>0.0</td>\n",
       "      <td>1142.36</td>\n",
       "      <td>35.7950</td>\n",
       "      <td>-0.053872</td>\n",
       "      <td>-0.289099</td>\n",
       "      <td>...</td>\n",
       "      <td>-6.11011</td>\n",
       "      <td>-3.60929</td>\n",
       "      <td>-3.62336</td>\n",
       "      <td>-3.60243</td>\n",
       "      <td>-3.68791</td>\n",
       "      <td>-3.94499</td>\n",
       "      <td>-3.63252</td>\n",
       "      <td>-3.63132</td>\n",
       "      <td>-4.70969</td>\n",
       "      <td>-3.66654</td>\n",
       "    </tr>\n",
       "    <tr>\n",
       "      <th>4</th>\n",
       "      <td>-1138.52</td>\n",
       "      <td>0.957238</td>\n",
       "      <td>0.034654</td>\n",
       "      <td>7.0</td>\n",
       "      <td>127.0</td>\n",
       "      <td>0.0</td>\n",
       "      <td>1142.35</td>\n",
       "      <td>38.9784</td>\n",
       "      <td>-0.123442</td>\n",
       "      <td>-0.552863</td>\n",
       "      <td>...</td>\n",
       "      <td>-5.52595</td>\n",
       "      <td>-3.63132</td>\n",
       "      <td>-3.58607</td>\n",
       "      <td>-3.57474</td>\n",
       "      <td>-3.66462</td>\n",
       "      <td>-3.74117</td>\n",
       "      <td>-3.64868</td>\n",
       "      <td>-3.58725</td>\n",
       "      <td>-4.40254</td>\n",
       "      <td>-3.58187</td>\n",
       "    </tr>\n",
       "  </tbody>\n",
       "</table>\n",
       "<p>5 rows × 1097 columns</p>\n",
       "</div>"
      ],
      "text/plain": [
       "      lp__  accept_stat__  stepsize__  treedepth__  n_leapfrog__  divergent__  \\\n",
       "0 -1140.82       0.976002    0.034654          7.0         127.0          0.0   \n",
       "1 -1143.55       0.732982    0.034654          7.0         127.0          0.0   \n",
       "2 -1139.32       0.911130    0.034654          6.0          63.0          0.0   \n",
       "3 -1139.80       0.925477    0.034654          7.0         127.0          0.0   \n",
       "4 -1138.52       0.957238    0.034654          7.0         127.0          0.0   \n",
       "\n",
       "   energy__    alpha  beta_temp   beta_ws  ...  log_lik[352]  log_lik[353]  \\\n",
       "0   1144.39  36.8549  -0.068156 -0.266617  ...      -6.22011      -3.59308   \n",
       "1   1147.67  35.0646   0.013494 -0.416022  ...      -5.63858      -3.63958   \n",
       "2   1144.49  35.3397   0.199700 -0.565992  ...      -5.79144      -3.59959   \n",
       "3   1142.36  35.7950  -0.053872 -0.289099  ...      -6.11011      -3.60929   \n",
       "4   1142.35  38.9784  -0.123442 -0.552863  ...      -5.52595      -3.63132   \n",
       "\n",
       "   log_lik[354]  log_lik[355]  log_lik[356]  log_lik[357]  log_lik[358]  \\\n",
       "0      -3.61162      -3.58953      -3.67554      -3.96220      -3.61791   \n",
       "1      -3.62354      -3.57018      -3.60955      -3.94215      -3.66744   \n",
       "2      -3.57372      -3.57190      -3.70365      -3.68834      -3.60037   \n",
       "3      -3.62336      -3.60243      -3.68791      -3.94499      -3.63252   \n",
       "4      -3.58607      -3.57474      -3.66462      -3.74117      -3.64868   \n",
       "\n",
       "   log_lik[359]  log_lik[360]  log_lik[361]  \n",
       "0      -3.61581      -4.75188      -3.59596  \n",
       "1      -3.59096      -4.40845      -3.63530  \n",
       "2      -3.57412      -4.56905      -3.58626  \n",
       "3      -3.63132      -4.70969      -3.66654  \n",
       "4      -3.58725      -4.40254      -3.58187  \n",
       "\n",
       "[5 rows x 1097 columns]"
      ]
     },
     "execution_count": 52,
     "metadata": {},
     "output_type": "execute_result"
    }
   ],
   "source": [
    "smog_fit_data = fit.draws_pd()\n",
    "smog_fit_data.head()"
   ]
  },
  {
   "cell_type": "code",
   "execution_count": 53,
   "metadata": {},
   "outputs": [
    {
     "data": {
      "text/html": [
       "<div>\n",
       "<style scoped>\n",
       "    .dataframe tbody tr th:only-of-type {\n",
       "        vertical-align: middle;\n",
       "    }\n",
       "\n",
       "    .dataframe tbody tr th {\n",
       "        vertical-align: top;\n",
       "    }\n",
       "\n",
       "    .dataframe thead th {\n",
       "        text-align: right;\n",
       "    }\n",
       "</style>\n",
       "<table border=\"1\" class=\"dataframe\">\n",
       "  <thead>\n",
       "    <tr style=\"text-align: right;\">\n",
       "      <th></th>\n",
       "      <th>smog</th>\n",
       "    </tr>\n",
       "  </thead>\n",
       "  <tbody>\n",
       "    <tr>\n",
       "      <th>0</th>\n",
       "      <td>49.47190</td>\n",
       "    </tr>\n",
       "    <tr>\n",
       "      <th>1</th>\n",
       "      <td>38.96000</td>\n",
       "    </tr>\n",
       "    <tr>\n",
       "      <th>2</th>\n",
       "      <td>31.93690</td>\n",
       "    </tr>\n",
       "    <tr>\n",
       "      <th>3</th>\n",
       "      <td>1.33853</td>\n",
       "    </tr>\n",
       "    <tr>\n",
       "      <th>4</th>\n",
       "      <td>4.02125</td>\n",
       "    </tr>\n",
       "  </tbody>\n",
       "</table>\n",
       "</div>"
      ],
      "text/plain": [
       "       smog\n",
       "0  49.47190\n",
       "1  38.96000\n",
       "2  31.93690\n",
       "3   1.33853\n",
       "4   4.02125"
      ]
     },
     "execution_count": 53,
     "metadata": {},
     "output_type": "execute_result"
    }
   ],
   "source": [
    "smog_fit_df = pd.DataFrame(smog_fit_data.loc[:, 'smog_hat[1]':f'smog_hat[{len(df)}]'].values.flatten())\n",
    "smog_fit_df.columns = [\"smog\"]\n",
    "smog_fit_df.head()"
   ]
  },
  {
   "cell_type": "code",
   "execution_count": 54,
   "metadata": {},
   "outputs": [
    {
     "data": {
      "image/png": "[encoded data removed]",
      "text/plain": [
       "<Figure size 432x288 with 1 Axes>"
      ]
     },
     "metadata": {
      "needs_background": "light"
     },
     "output_type": "display_data"
    }
   ],
   "source": [
    "smog_fit_df.smog.plot.kde(label='from fit')\n",
    "smog_relation[\"smog Bulwarowa\"].plot.kde(label='from data')\n",
    "plt.xlim(-10, 120)\n",
    "plt.legend()\n",
    "plt.title(\"Smog KDEs\")\n",
    "plt.show()"
   ]
  },
  {
   "cell_type": "markdown",
   "metadata": {},
   "source": [
    "## LOO/WAIC for smog"
   ]
  },
  {
   "cell_type": "code",
   "execution_count": 55,
   "metadata": {},
   "outputs": [],
   "source": [
    "fit_normal = az.from_cmdstanpy(posterior=fit, posterior_predictive = 'smog_hat', observed_data = {'smog': df[\"smog Bulwarowa\"]})\n",
    "fit_student= az.from_cmdstanpy(posterior=fit_s, posterior_predictive = 'smog_hat', observed_data = {'smog': df[\"smog Bulwarowa\"]})\n",
    "\n",
    "model_dict = {\"Smog Fit Normal Model\": fit_normal, \"Smog Fit T_Student Model\": fit_student}"
   ]
  },
  {
   "cell_type": "code",
   "execution_count": 56,
   "metadata": {},
   "outputs": [
    {
     "name": "stdout",
     "output_type": "stream",
     "text": [
      "                          rank     elpd_loo     p_loo  elpd_diff    weight  \\\n",
      "Smog Fit Normal Model        0  2925.820563  4.300982   0.000000  0.931408   \n",
      "Smog Fit T_Student Model     1  2988.749887  4.968465  62.929324  0.068592   \n",
      "\n",
      "                                 se        dse  warning     scale  \n",
      "Smog Fit Normal Model     33.276718   0.000000    False  deviance  \n",
      "Smog Fit T_Student Model  31.847737  17.024722    False  deviance  \n"
     ]
    },
    {
     "data": {
      "image/png": "[encoded data removed]",
      "text/plain": [
       "<Figure size 432x144 with 1 Axes>"
      ]
     },
     "metadata": {
      "needs_background": "light"
     },
     "output_type": "display_data"
    }
   ],
   "source": [
    "model_comparison = az.compare(model_dict, ic=\"loo\", method=\"stacking\", scale=\"deviance\")\n",
    "\n",
    "print(model_comparison.head())\n",
    "az.plot_compare(model_comparison)\n",
    "plt.title('LOO')\n",
    "plt.show()"
   ]
  },
  {
   "cell_type": "code",
   "execution_count": 57,
   "metadata": {},
   "outputs": [
    {
     "name": "stdout",
     "output_type": "stream",
     "text": [
      "                          rank    elpd_waic    p_waic  elpd_diff    weight  \\\n",
      "Smog Fit Normal Model        0  2925.728118  4.254760   0.000000  0.931454   \n",
      "Smog Fit T_Student Model     1  2988.658242  4.922643  62.930123  0.068546   \n",
      "\n",
      "                                 se       dse  warning     scale  \n",
      "Smog Fit Normal Model     33.268463   0.00000    False  deviance  \n",
      "Smog Fit T_Student Model  31.847766  17.02156    False  deviance  \n"
     ]
    },
    {
     "data": {
      "image/png": "[encoded data removed]",
      "text/plain": [
       "<Figure size 432x144 with 1 Axes>"
      ]
     },
     "metadata": {
      "needs_background": "light"
     },
     "output_type": "display_data"
    }
   ],
   "source": [
    "model_comparison = az.compare(model_dict, ic=\"waic\", method=\"stacking\", scale=\"deviance\")\n",
    "\n",
    "print(model_comparison.head())\n",
    "az.plot_compare(model_comparison)\n",
    "plt.title('WAIC')\n",
    "plt.show()"
   ]
  }
 ],
 "metadata": {
  "kernelspec": {
   "display_name": "Python 3 (ipykernel)",
   "language": "python",
   "name": "python3"
  },
  "language_info": {
   "codemirror_mode": {
    "name": "ipython",
    "version": 3
   },
   "file_extension": ".py",
   "mimetype": "text/x-python",
   "name": "python",
   "nbconvert_exporter": "python",
   "pygments_lexer": "ipython3",
   "version": "3.9.11"
  }
 },
 "nbformat": 4,
 "nbformat_minor": 2
}
